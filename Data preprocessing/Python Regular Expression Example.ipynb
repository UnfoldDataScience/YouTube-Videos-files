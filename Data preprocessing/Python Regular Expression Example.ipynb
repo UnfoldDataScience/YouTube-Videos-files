{
 "cells": [
  {
   "cell_type": "markdown",
   "metadata": {},
   "source": [
    "# The \"re\" module - \n",
    "The re module offers a set of functions that allows us to search a string for a match:"
   ]
  },
  {
   "cell_type": "markdown",
   "metadata": {},
   "source": [
    "# The main methods of \"re\" module:\n",
    "    findall - Returns a list containing all matches\n",
    "    search - Returns a Match object if there is a match anywhere in the string"
   ]
  },
  {
   "cell_type": "code",
   "execution_count": 90,
   "metadata": {},
   "outputs": [
    {
     "name": "stdout",
     "output_type": "stream",
     "text": [
      "['78', '82']\n",
      "<re.Match object; span=(28, 30), match='78'>\n"
     ]
    }
   ],
   "source": [
    "import re\n",
    "pattern = r\"\\d{2}\" #give me all two digit numbers\n",
    "text =  \"The score of the player was 78 runs from 82 balls\"\n",
    "print(re.findall(pattern,text))\n",
    "print(re.search(pattern,text))"
   ]
  },
  {
   "cell_type": "code",
   "execution_count": 98,
   "metadata": {},
   "outputs": [
    {
     "name": "stdout",
     "output_type": "stream",
     "text": [
      "['78', '82']\n"
     ]
    }
   ],
   "source": [
    "pattern = r\"\\b\\d{2,3}\\b\" #check any digit\n",
    "text =  \"The score of the player wad 78 runs from 82 balls in 8 overs 1234 \"\n",
    "print(re.findall(pattern,text))"
   ]
  },
  {
   "cell_type": "code",
   "execution_count": 100,
   "metadata": {},
   "outputs": [
    {
     "name": "stdout",
     "output_type": "stream",
     "text": [
      "['T', 'h', 'e', 's', 'c', 'o', 'r', 'e', 'o', 'f', 't', 'h', 'e', 'p', 'l', 'a', 'y', 'e', 'r', 'w', 'a', 'd', '7', '8', 'r', 'u', 'n', 's', 'f', 'r', 'o', 'm', '8', '2', 'b', 'a', 'l', 'l', 's']\n"
     ]
    }
   ],
   "source": [
    "pattern = r\"\\S\" #check whitespace character\n",
    "text =  \"The score of the player wad 78 runs from 82 balls\"\n",
    "print(re.findall(pattern,text))"
   ]
  },
  {
   "cell_type": "code",
   "execution_count": 101,
   "metadata": {},
   "outputs": [
    {
     "name": "stdout",
     "output_type": "stream",
     "text": [
      "['T', 'h', 'e', ' ', 's', 'c', 'o', 'r', 'e', ' ', 'o', 'f', ' ', 't', 'h', 'e', ' ', 'p', 'l', 'a', 'y', 'e', 'r', ' ', 'w', 'a', 'd', ' ', '7', '8', ' ', 'r', 'u', 'n', 's', ' ', 'f', 'r', 'o', 'm', ' ', '8', '2', ' ', 'b', 'a', 'l', 'l', 's']\n"
     ]
    }
   ],
   "source": [
    "pattern = r\".\" #check any character\n",
    "text =  \"The score of the player wad 78 runs from 82 balls\"\n",
    "print(re.findall(pattern,text))"
   ]
  },
  {
   "cell_type": "code",
   "execution_count": 103,
   "metadata": {},
   "outputs": [
    {
     "name": "stdout",
     "output_type": "stream",
     "text": [
      "[' ', ' ', ' ', ' ', ' ', ' ', ' ', ' ', ' ', ' ']\n"
     ]
    }
   ],
   "source": [
    "pattern = r\"\\W\" #check any character\n",
    "text =  \"The score of the player wad 78 runs from 82 balls\"\n",
    "print(re.findall(pattern,text))"
   ]
  },
  {
   "cell_type": "code",
   "execution_count": 108,
   "metadata": {},
   "outputs": [
    {
     "name": "stdout",
     "output_type": "stream",
     "text": [
      "['c1']\n"
     ]
    }
   ],
   "source": [
    "pattern = r\"[a-z][0-9]\" #check all characters between \"a\" to \"c\"\n",
    "text =  \"The score of the player wad 78 runs ac12 from 82 balls\"\n",
    "print(re.findall(pattern,text))"
   ]
  },
  {
   "cell_type": "code",
   "execution_count": 111,
   "metadata": {},
   "outputs": [
    {
     "name": "stdout",
     "output_type": "stream",
     "text": [
      "['T', 'S', 'O']\n"
     ]
    }
   ],
   "source": [
    "pattern = r\"[A-Z]\" #check all characters between \"A\" to \"Z\"\n",
    "text =  \"The Score Of the player wad 78 runs from 82 balls\"\n",
    "print(re.findall(pattern,text))"
   ]
  },
  {
   "cell_type": "code",
   "execution_count": 116,
   "metadata": {},
   "outputs": [
    {
     "name": "stdout",
     "output_type": "stream",
     "text": [
      "['score']\n"
     ]
    }
   ],
   "source": [
    "pattern = r\"\\bscore\\b\" #check a word\n",
    "text =  \"The score of the player wad 78 runs from 82 balls play\"\n",
    "print(re.findall(pattern,text))"
   ]
  },
  {
   "cell_type": "code",
   "execution_count": 123,
   "metadata": {},
   "outputs": [
    {
     "name": "stdout",
     "output_type": "stream",
     "text": [
      "['runs']\n"
     ]
    }
   ],
   "source": [
    "#start and end of string\n",
    "pattern = r\"runs$\" #check any character\n",
    "text =  \"Score of the player wad 78 runs\"\n",
    "print(re.findall(pattern,text))"
   ]
  },
  {
   "cell_type": "code",
   "execution_count": 129,
   "metadata": {},
   "outputs": [
    {
     "name": "stdout",
     "output_type": "stream",
     "text": [
      "['The', 'th', 'The']\n"
     ]
    }
   ],
   "source": [
    "#repition\n",
    "pattern = r\"the*\" #check whereever he is there -  zero or more occurances of \"e\" followed by \"th\"\n",
    "text =  \"The Score of th player Their was 78 runs from 82 balls\"\n",
    "print(re.findall(pattern,text,re.IGNORECASE))"
   ]
  },
  {
   "cell_type": "code",
   "execution_count": 130,
   "metadata": {},
   "outputs": [
    {
     "name": "stdout",
     "output_type": "stream",
     "text": [
      "['The', 'The']\n"
     ]
    }
   ],
   "source": [
    "#repition\n",
    "pattern = r\"the+\" #check whereever he is there -  1 or more occurances of \"e\" followed by \"th\"\n",
    "text =  \"The Score of th player Their was 78 runs from 82 balls\"\n",
    "print(re.findall(pattern,text,re.IGNORECASE))"
   ]
  },
  {
   "cell_type": "code",
   "execution_count": 134,
   "metadata": {},
   "outputs": [
    {
     "name": "stdout",
     "output_type": "stream",
     "text": [
      "['The', 'the', 'The']\n"
     ]
    }
   ],
   "source": [
    "#repition\n",
    "pattern = r\"the?\" #check whereever he is there - 0 or 1 \"e\" followed by \"th\"\n",
    "text =  \"Thee Score of thee player Their was 78 runs from 82 balls\"\n",
    "print(re.findall(pattern,text,re.IGNORECASE))"
   ]
  },
  {
   "cell_type": "code",
   "execution_count": 136,
   "metadata": {},
   "outputs": [
    {
     "name": "stdout",
     "output_type": "stream",
     "text": [
      "['the']\n"
     ]
    }
   ],
   "source": [
    "#repition\n",
    "pattern = r\"the{1}\\b\" ##Check if the string contains \"th\" followed by exactly one \"e\" characters:\n",
    "text =  \"Thee Score of the player Their was 78 runs from 82 balls\"\n",
    "print(re.findall(pattern,text,re.IGNORECASE))"
   ]
  },
  {
   "cell_type": "code",
   "execution_count": 140,
   "metadata": {},
   "outputs": [
    {
     "name": "stdout",
     "output_type": "stream",
     "text": [
      "['The', 'The', 'was']\n"
     ]
    }
   ],
   "source": [
    "#The alternmate word\n",
    "pattern = r\"The|was\" ##Check if the string contains either \"the\" or \"was\"\n",
    "text =  \"The Score of the player Their was 78 runs from 82 balls\"\n",
    "print(re.findall(pattern,text))"
   ]
  },
  {
   "cell_type": "markdown",
   "metadata": {},
   "source": [
    "# Python Regular Expression Part 2 - Sets"
   ]
  },
  {
   "cell_type": "code",
   "execution_count": 22,
   "metadata": {},
   "outputs": [
    {
     "name": "stdout",
     "output_type": "stream",
     "text": [
      "['T', 'h', 'e', ' ', 'S', 'c', 'o', 'r', 'e', ' ', 'o', 'f', ' ', 't', 'h', 'e', ' ', '$', ' ', 'p', 'l', 'a', 'y', 'e', 'r', ' ', '~', ' ', 'T', 'h', 'e', 'i', 'r', ' ', '~', ' ', 'w', 'a', 's', ' ', ' ', 'r', 'u', 'n', 's', ' ', 'f', 'r', 'o', 'm', ' ', ' ', 'b', 'a', 'l', 'l', 's']\n"
     ]
    }
   ],
   "source": [
    "import re\n",
    "#Finding one of the character\n",
    "pattern = r\"[^256789]\" ##Check if the string contains \"o\"/\"r\"/\"i\", try with [789], not symbol\n",
    "text =  \"The Score of the $ player ~ Their ~ was 78 runs from 82 balls\"\n",
    "print(re.findall(pattern,text))\n",
    "\n",
    "#use Cae\n",
    "#Finding Junk character in large text - > $ '' ' ~"
   ]
  },
  {
   "cell_type": "code",
   "execution_count": 21,
   "metadata": {},
   "outputs": [
    {
     "name": "stdout",
     "output_type": "stream",
     "text": [
      "['h', 'e', ' ', 'c', 'o', 'r', 'e', ' ', 'o', 'f', ' ', 't', 'h', 'e', ' ', 'p', 'l', 'a', 'y', 'e', 'r', ' ', 'h', 'e', 'i', 'r', ' ', 'w', 'a', 's', ' ', '7', '8', ' ', 'r', 'u', 'n', 's', ' ', 'f', 'r', 'o', 'm', ' ', '8', '2', ' ', 'b', 'a', 'l', 'l', 's']\n"
     ]
    }
   ],
   "source": [
    "import re\n",
    "#Finding anything between range\n",
    "pattern = r\"[^A-Z]\" ##Check if the string contains alphabates between \"c\" to \"f\", try with 0-9, not symbol\n",
    "text =  \"The Score of the player Their was 78 runs from 82 balls\"\n",
    "print(re.findall(pattern,text))\n",
    "\n",
    "#use Cae\n",
    "#Finding Junk character in large text - using A/B/C with above"
   ]
  },
  {
   "cell_type": "code",
   "execution_count": 28,
   "metadata": {},
   "outputs": [
    {
     "name": "stdout",
     "output_type": "stream",
     "text": [
      "['305']\n"
     ]
    }
   ],
   "source": [
    "import re\n",
    "#Finding Combination\n",
    "pattern = r\"[3-4][0-1][4-6]\" ##Check with other combination, and alphabets\n",
    "text =  \"The Score of the player Their was 78 runs from 82 balls 305\"\n",
    "print(re.findall(pattern,text))\n",
    "\n",
    "#use Cae\n",
    "#Useful to find some error code for example 404 or a code that may have range\n",
    "#to find PAN number/aadhar /ssn  etc"
   ]
  },
  {
   "cell_type": "code",
   "execution_count": 32,
   "metadata": {},
   "outputs": [
    {
     "name": "stdout",
     "output_type": "stream",
     "text": [
      "['T', ' ', 'S', ' ', ' ', ' ', ' ', 'T', ' ', ' ', '7', '8', ' ', ' ', ' ', '8', '2', ' ']\n"
     ]
    }
   ],
   "source": [
    "import re\n",
    "#Finding any character ignoring case\n",
    "pattern = r\"[^a-z]\" ##Check with other combination, and alphabets, with or without 0-9\n",
    "text =  \"The Score of the player Their was 78 runs from 82 balls\"\n",
    "print(re.findall(pattern,text))\n",
    "\n",
    "#use Cae\n",
    "#Useful to find characters and combination"
   ]
  },
  {
   "cell_type": "code",
   "execution_count": 9,
   "metadata": {},
   "outputs": [],
   "source": [
    "# We will Discuss use case how it helps on ML/DL perspective  "
   ]
  },
  {
   "cell_type": "code",
   "execution_count": null,
   "metadata": {},
   "outputs": [],
   "source": []
  }
 ],
 "metadata": {
  "kernelspec": {
   "display_name": "Python 3",
   "language": "python",
   "name": "python3"
  },
  "language_info": {
   "codemirror_mode": {
    "name": "ipython",
    "version": 3
   },
   "file_extension": ".py",
   "mimetype": "text/x-python",
   "name": "python",
   "nbconvert_exporter": "python",
   "pygments_lexer": "ipython3",
   "version": "3.8.3"
  }
 },
 "nbformat": 4,
 "nbformat_minor": 4
}
