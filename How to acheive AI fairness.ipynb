{
 "cells": [
  {
   "cell_type": "code",
   "execution_count": 4,
   "id": "0d436304",
   "metadata": {},
   "outputs": [],
   "source": [
    "import warnings\n",
    "warnings.filterwarnings('ignore')"
   ]
  },
  {
   "cell_type": "code",
   "execution_count": 5,
   "id": "ff89d9a1",
   "metadata": {},
   "outputs": [
    {
     "name": "stdout",
     "output_type": "stream",
     "text": [
      "Requirement already satisfied: fairlearn in c:\\users\\amanr\\appdata\\roaming\\python\\python39\\site-packages (0.10.0)\n",
      "Requirement already satisfied: scipy>=1.9.3 in c:\\users\\amanr\\anaconda3\\lib\\site-packages (from fairlearn) (1.9.3)\n",
      "Requirement already satisfied: pandas>=2.0.3 in c:\\users\\amanr\\appdata\\roaming\\python\\python39\\site-packages (from fairlearn) (2.2.2)\n",
      "Requirement already satisfied: numpy>=1.24.4 in c:\\users\\amanr\\anaconda3\\lib\\site-packages (from fairlearn) (1.25.2)\n",
      "Requirement already satisfied: scikit-learn>=1.2.1 in c:\\users\\amanr\\anaconda3\\lib\\site-packages (from fairlearn) (1.4.0)\n",
      "Requirement already satisfied: python-dateutil>=2.8.2 in c:\\users\\amanr\\anaconda3\\lib\\site-packages (from pandas>=2.0.3->fairlearn) (2.8.2)\n",
      "Requirement already satisfied: pytz>=2020.1 in c:\\users\\amanr\\anaconda3\\lib\\site-packages (from pandas>=2.0.3->fairlearn) (2022.1)\n",
      "Requirement already satisfied: tzdata>=2022.7 in c:\\users\\amanr\\anaconda3\\lib\\site-packages (from pandas>=2.0.3->fairlearn) (2023.4)\n",
      "Requirement already satisfied: joblib>=1.2.0 in c:\\users\\amanr\\anaconda3\\lib\\site-packages (from scikit-learn>=1.2.1->fairlearn) (1.3.2)\n",
      "Requirement already satisfied: threadpoolctl>=2.0.0 in c:\\users\\amanr\\anaconda3\\lib\\site-packages (from scikit-learn>=1.2.1->fairlearn) (2.2.0)\n",
      "Requirement already satisfied: six>=1.5 in c:\\users\\amanr\\anaconda3\\lib\\site-packages (from python-dateutil>=2.8.2->pandas>=2.0.3->fairlearn) (1.16.0)\n"
     ]
    }
   ],
   "source": [
    "#!pip install --user fairlearn"
   ]
  },
  {
   "cell_type": "code",
   "execution_count": 9,
   "id": "4a5508d8",
   "metadata": {},
   "outputs": [],
   "source": [
    "import pandas as pd\n",
    "from sklearn.model_selection import train_test_split\n",
    "from sklearn.preprocessing import StandardScaler, OneHotEncoder\n",
    "from sklearn.compose import ColumnTransformer\n",
    "from sklearn.pipeline import Pipeline\n",
    "from sklearn.linear_model import LogisticRegression\n",
    "from sklearn.metrics import accuracy_score\n",
    "\n",
    "# Load German Credit Data dataset\n",
    "url = \"https://archive.ics.uci.edu/ml/machine-learning-databases/statlog/german/german.data\"\n",
    "columns = ['Status', 'Month', 'CreditHistory', 'Purpose', 'CreditAmount', 'Savings', 'Employment', 'Investment', 'Sex', 'Debtors', 'Residence', 'Property', 'Age', 'OtherInstallments', 'Housing', 'ExistingCredits', 'Job', 'NumPeople', 'Telephone', 'Foreign', 'Class']\n",
    "data = pd.read_csv(url, delimiter=' ', header=None, names=columns)\n",
    "\n",
    "# Preprocess data\n",
    "data['Class'] = data['Class'].apply(lambda x: 1 if x == 1 else 0)\n",
    "data['Sex'] = data['Sex'].apply(lambda x: 1 if x == 'A91' or x == 'A93' or x == 'A94' else 0)\n",
    "\n",
    "# Identify categorical and numerical columns\n",
    "categorical_columns = ['Status', 'CreditHistory', 'Purpose', 'Savings', 'Employment', 'Debtors', 'Property', 'OtherInstallments', 'Housing', 'Job', 'Telephone', 'Foreign']\n",
    "numerical_columns = ['Month', 'CreditAmount', 'Investment', 'Residence', 'Age', 'ExistingCredits', 'NumPeople']\n",
    "\n",
    "# One-hot encode categorical columns\n",
    "preprocessor = ColumnTransformer(\n",
    "    transformers=[\n",
    "        ('num', StandardScaler(), numerical_columns),\n",
    "        ('cat', OneHotEncoder(), categorical_columns)\n",
    "    ])\n",
    "\n",
    "# Split data ensuring stratification\n",
    "X = data[categorical_columns + numerical_columns]\n",
    "y = data['Class']\n",
    "sensitive_feature = data['Sex']\n",
    "\n",
    "# Ensure stratification by both Class and Sex\n",
    "stratify_data = pd.concat([y, sensitive_feature], axis=1)\n",
    "X_train, X_test, y_train, y_test, sensitive_train, sensitive_test = train_test_split(X, y, sensitive_feature, test_size=0.2, random_state=42, stratify=stratify_data)\n",
    "\n",
    "# Apply preprocessor to the data\n",
    "X_train = preprocessor.fit_transform(X_train)\n",
    "X_test = preprocessor.transform(X_test)\n"
   ]
  },
  {
   "cell_type": "code",
   "execution_count": 12,
   "id": "06e460b9",
   "metadata": {},
   "outputs": [
    {
     "name": "stdout",
     "output_type": "stream",
     "text": [
      "Accuracy: 0.75\n",
      "     accuracy\n",
      "Sex          \n",
      "0    0.693548\n",
      "1    0.775362\n"
     ]
    }
   ],
   "source": [
    "from fairlearn.metrics import MetricFrame\n",
    "\n",
    "# Train a logistic regression model\n",
    "model = LogisticRegression(max_iter=1000)\n",
    "model.fit(X_train, y_train)\n",
    "\n",
    "# Make predictions\n",
    "y_pred = model.predict(X_test)\n",
    "\n",
    "# Evaluate the model\n",
    "accuracy = accuracy_score(y_test, y_pred)\n",
    "print(f\"Accuracy: {accuracy}\")\n",
    "\n",
    "# Fairness assessment\n",
    "metric_frame = MetricFrame(metrics={\"accuracy\": accuracy_score}, y_true=y_test, y_pred=y_pred, sensitive_features=sensitive_test)\n",
    "print(metric_frame.by_group)\n"
   ]
  },
  {
   "cell_type": "code",
   "execution_count": 13,
   "id": "2fd675f5",
   "metadata": {},
   "outputs": [
    {
     "name": "stdout",
     "output_type": "stream",
     "text": [
      "Accuracy after mitigation: 0.735\n",
      "     accuracy\n",
      "Sex          \n",
      "0    0.709677\n",
      "1    0.746377\n"
     ]
    }
   ],
   "source": [
    "from fairlearn.reductions import ExponentiatedGradient, DemographicParity\n",
    "\n",
    "# Fairness mitigation using ExponentiatedGradient\n",
    "mitigator = ExponentiatedGradient(LogisticRegression(max_iter=1000), constraints=DemographicParity())\n",
    "mitigator.fit(X_train, y_train, sensitive_features=sensitive_train)\n",
    "y_pred_mitigated = mitigator.predict(X_test)\n",
    "\n",
    "# Assess mitigated model\n",
    "accuracy_mitigated = accuracy_score(y_test, y_pred_mitigated)\n",
    "print(f\"Accuracy after mitigation: {accuracy_mitigated}\")\n",
    "\n",
    "metric_frame_mitigated = MetricFrame(metrics={\"accuracy\": accuracy_score}, y_true=y_test, y_pred=y_pred_mitigated, sensitive_features=sensitive_test)\n",
    "print(metric_frame_mitigated.by_group)\n"
   ]
  },
  {
   "cell_type": "code",
   "execution_count": null,
   "id": "03c18157",
   "metadata": {},
   "outputs": [],
   "source": []
  },
  {
   "cell_type": "code",
   "execution_count": null,
   "id": "9fb4792f",
   "metadata": {},
   "outputs": [],
   "source": []
  },
  {
   "cell_type": "code",
   "execution_count": null,
   "id": "8fbef302",
   "metadata": {},
   "outputs": [],
   "source": []
  },
  {
   "cell_type": "code",
   "execution_count": null,
   "id": "609792cd",
   "metadata": {},
   "outputs": [],
   "source": []
  },
  {
   "cell_type": "code",
   "execution_count": null,
   "id": "b844e0be",
   "metadata": {},
   "outputs": [],
   "source": []
  },
  {
   "cell_type": "code",
   "execution_count": null,
   "id": "0bc046c5",
   "metadata": {},
   "outputs": [],
   "source": []
  },
  {
   "cell_type": "code",
   "execution_count": null,
   "id": "c3036c29",
   "metadata": {},
   "outputs": [],
   "source": []
  },
  {
   "cell_type": "code",
   "execution_count": null,
   "id": "1a22c4c3",
   "metadata": {},
   "outputs": [],
   "source": []
  },
  {
   "cell_type": "code",
   "execution_count": null,
   "id": "e12988ca",
   "metadata": {},
   "outputs": [],
   "source": []
  },
  {
   "cell_type": "code",
   "execution_count": 13,
   "id": "d2383717",
   "metadata": {},
   "outputs": [
    {
     "name": "stdout",
     "output_type": "stream",
     "text": [
      "Accuracy after Equalized Odds Postprocessing: 0.74\n",
      "     accuracy\n",
      "Sex          \n",
      "0    0.661290\n",
      "1    0.775362\n"
     ]
    }
   ],
   "source": [
    "from fairlearn.postprocessing import ThresholdOptimizer\n",
    "\n",
    "# Re-train the LogisticRegression model to be used in ThresholdOptimizer\n",
    "base_model = LogisticRegression(max_iter=1000)\n",
    "base_model.fit(X_train, y_train)\n",
    "\n",
    "# Apply Equalized Odds Postprocessing\n",
    "eop = ThresholdOptimizer(estimator=base_model, constraints=\"equalized_odds\", prefit=True)\n",
    "eop.fit(X_train, y_train, sensitive_features=sensitive_train)\n",
    "y_pred_eop = eop.predict(X_test, sensitive_features=sensitive_test)\n",
    "\n",
    "# Evaluate the model\n",
    "accuracy_eop = accuracy_score(y_test, y_pred_eop)\n",
    "print(f\"Accuracy after Equalized Odds Postprocessing: {accuracy_eop}\")\n",
    "\n",
    "metric_frame_eop = MetricFrame(metrics={\"accuracy\": accuracy_score}, y_true=y_test, y_pred=y_pred_eop, sensitive_features=sensitive_test)\n",
    "print(metric_frame_eop.by_group)\n"
   ]
  },
  {
   "cell_type": "code",
   "execution_count": null,
   "id": "40f53c2a",
   "metadata": {},
   "outputs": [],
   "source": []
  },
  {
   "cell_type": "code",
   "execution_count": null,
   "id": "c766ec97",
   "metadata": {},
   "outputs": [],
   "source": []
  },
  {
   "cell_type": "code",
   "execution_count": null,
   "id": "60f09895",
   "metadata": {},
   "outputs": [],
   "source": []
  },
  {
   "cell_type": "code",
   "execution_count": null,
   "id": "3df0ec9c",
   "metadata": {},
   "outputs": [],
   "source": []
  }
 ],
 "metadata": {
  "kernelspec": {
   "display_name": "Python 3 (ipykernel)",
   "language": "python",
   "name": "python3"
  },
  "language_info": {
   "codemirror_mode": {
    "name": "ipython",
    "version": 3
   },
   "file_extension": ".py",
   "mimetype": "text/x-python",
   "name": "python",
   "nbconvert_exporter": "python",
   "pygments_lexer": "ipython3",
   "version": "3.9.15"
  }
 },
 "nbformat": 4,
 "nbformat_minor": 5
}
