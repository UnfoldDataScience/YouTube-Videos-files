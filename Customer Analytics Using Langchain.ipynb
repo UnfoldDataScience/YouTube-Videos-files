{
 "cells": [
  {
   "cell_type": "markdown",
   "id": "9c5035e3",
   "metadata": {},
   "source": [
    "# Little intro to SQLlite"
   ]
  },
  {
   "cell_type": "code",
   "execution_count": 52,
   "id": "e3bd1a65",
   "metadata": {},
   "outputs": [],
   "source": [
    "import sqlite3\n",
    "con = sqlite3.connect(\"tutorial.db\")"
   ]
  },
  {
   "cell_type": "code",
   "execution_count": 55,
   "id": "e13e0cde",
   "metadata": {},
   "outputs": [
    {
     "data": {
      "text/plain": [
       "<sqlite3.Cursor at 0x22748c41180>"
      ]
     },
     "execution_count": 55,
     "metadata": {},
     "output_type": "execute_result"
    }
   ],
   "source": [
    "cur.execute(\"CREATE TABLE movie(title, year, score)\")"
   ]
  },
  {
   "cell_type": "code",
   "execution_count": 60,
   "id": "24822454",
   "metadata": {},
   "outputs": [
    {
     "data": {
      "text/plain": [
       "<sqlite3.Cursor at 0x22748c41180>"
      ]
     },
     "execution_count": 60,
     "metadata": {},
     "output_type": "execute_result"
    }
   ],
   "source": [
    "cur.execute(\"\"\"\n",
    "    INSERT INTO movie VALUES\n",
    "        ('Monty Python and the Holy Grail', 1975, 8.2),\n",
    "        ('And Now for Something Completely Different', 1971, 7.5)\n",
    "\"\"\")"
   ]
  },
  {
   "cell_type": "code",
   "execution_count": 64,
   "id": "2d29bc6a",
   "metadata": {},
   "outputs": [],
   "source": [
    "con.commit()"
   ]
  },
  {
   "cell_type": "code",
   "execution_count": 65,
   "id": "903b1a50",
   "metadata": {},
   "outputs": [
    {
     "data": {
      "text/plain": [
       "[('Monty Python and the Holy Grail',),\n",
       " ('And Now for Something Completely Different',),\n",
       " ('Monty Python and the Holy Grail',),\n",
       " ('And Now for Something Completely Different',),\n",
       " ('Monty Python and the Holy Grail',),\n",
       " ('And Now for Something Completely Different',)]"
      ]
     },
     "execution_count": 65,
     "metadata": {},
     "output_type": "execute_result"
    }
   ],
   "source": [
    "res = cur.execute(\"SELECT title FROM movie\")\n",
    "res.fetchall()"
   ]
  },
  {
   "cell_type": "code",
   "execution_count": null,
   "id": "7f234e44",
   "metadata": {},
   "outputs": [],
   "source": [
    "cur = sqllite_connection.cursor()\n",
    "cur.execute(\"DROP TABLE movie\")"
   ]
  },
  {
   "cell_type": "markdown",
   "id": "a7fae4db",
   "metadata": {},
   "source": [
    "# Importing data and Loading to SQLlite"
   ]
  },
  {
   "cell_type": "code",
   "execution_count": 68,
   "id": "dcf0204d",
   "metadata": {},
   "outputs": [
    {
     "data": {
      "text/plain": [
       "1000"
      ]
     },
     "execution_count": 68,
     "metadata": {},
     "output_type": "execute_result"
    }
   ],
   "source": [
    "# Import necessary libraries and modules\n",
    "from langchain.chat_models import ChatOpenAI\n",
    "import sqlite3\n",
    "import pandas as pd\n",
    "\n",
    "# Set the OpenAI key\n",
    "import mykey\n",
    "OPENAI_API_KEY = mykey.OPENAI_API_KEY\n",
    "\n",
    "# Initialize the Langchain ChatOpenAI \n",
    "llm = ChatOpenAI(openai_api_key=OPENAI_API_KEY, model_name=\"gpt-3.5-turbo-1106\")\n",
    "\n",
    "#Reading my input data\n",
    "retail_df = pd.read_csv(\"C:\\\\Users\\\\amanr\\\\OneDrive\\\\Desktop\\\\retail_sales_dataset.csv\")\n",
    "\n",
    "# Connect to the SQLite database\n",
    "sqllite_connection = sqlite3.connect(\"amancustomer.db\")\n",
    "\n",
    "# Convert DataFrame to a SQLite table named \"RetailSalesTable\"\n",
    "retail_df.to_sql(\"Sales\", sqllite_connection, if_exists='replace')"
   ]
  },
  {
   "cell_type": "markdown",
   "id": "fdf6fcc1",
   "metadata": {},
   "source": [
    "# Report generation via language models"
   ]
  },
  {
   "cell_type": "code",
   "execution_count": 78,
   "id": "48f17347",
   "metadata": {},
   "outputs": [
    {
     "name": "stderr",
     "output_type": "stream",
     "text": [
      "C:\\Users\\amanr\\anaconda3\\lib\\site-packages\\langchain_community\\agent_toolkits\\sql\\base.py:138: UserWarning: Received additional kwargs {'handle_parsing_errors': True, 'return_intermediate_steps': True} which are no longer supported.\n",
      "  warnings.warn(\n"
     ]
    }
   ],
   "source": [
    "# Import necessary libraries and modules\n",
    "from langchain.agents import create_sql_agent\n",
    "from langchain.agents.agent_toolkits import SQLDatabaseToolkit\n",
    "from langchain.agents.agent_types import AgentType\n",
    "from langchain.sql_database import SQLDatabase\n",
    "\n",
    "# Create an instance of SQLDatabase using the 'customer.db' SQLite database\n",
    "my_db = SQLDatabase.from_uri('sqlite:///amancustomer.db')\n",
    "\n",
    "# Create an SQL agent executor with specified parameters\n",
    "lc_agent_executor = create_sql_agent(\n",
    "    llm=llm,\n",
    "    toolkit=SQLDatabaseToolkit(db=my_db, llm=llm),\n",
    "    agent_type=AgentType.ZERO_SHOT_REACT_DESCRIPTION,\n",
    "    handle_parsing_errors=True,\n",
    "    verbose=True,\n",
    "    return_intermediate_steps=True\n",
    ")\n"
   ]
  },
  {
   "cell_type": "code",
   "execution_count": 45,
   "id": "1e36a55f",
   "metadata": {},
   "outputs": [
    {
     "name": "stdout",
     "output_type": "stream",
     "text": [
      "\n",
      "\n",
      "\u001b[1m> Entering new AgentExecutor chain...\u001b[0m\n",
      "\u001b[32;1m\u001b[1;3mI need to calculate the average sales for each product category in the database.\n",
      "Action: sql_db_query_checker\n",
      "Action Input: SELECT product_category, AVG(sales) FROM sales_table GROUP BY product_category\u001b[0m\u001b[36;1m\u001b[1;3mSELECT product_category, AVG(sales) \n",
      "FROM sales_table \n",
      "GROUP BY product_category;\u001b[0m\u001b[32;1m\u001b[1;3mThe query looks correct, but I should double-check with the database.\n",
      "Action: sql_db_query\n",
      "Action Input: SELECT product_category, AVG(sales) \n",
      "FROM sales_table \n",
      "GROUP BY product_category;\u001b[0m\u001b[36;1m\u001b[1;3mError: (sqlite3.OperationalError) no such table: sales_table\n",
      "[SQL: SELECT product_category, AVG(sales) \n",
      "FROM sales_table \n",
      "GROUP BY product_category;]\n",
      "(Background on this error at: https://sqlalche.me/e/14/e3q8)\u001b[0m\u001b[32;1m\u001b[1;3mI need to check for the correct table name and fields using sql_db_schema\n",
      "Action: sql_db_list_tables\n",
      "Action Input: \u001b[0m\u001b[38;5;200m\u001b[1;3mSales\u001b[0m\u001b[32;1m\u001b[1;3mI should use sql_db_schema to query the correct table fields for the 'Sales' table.\n",
      "Action: sql_db_schema\n",
      "Action Input: Sales\u001b[0m\u001b[33;1m\u001b[1;3m\n",
      "CREATE TABLE \"Sales\" (\n",
      "\t\"index\" INTEGER, \n",
      "\t\"Transaction ID\" INTEGER, \n",
      "\t\"Date\" TEXT, \n",
      "\t\"Customer ID\" TEXT, \n",
      "\t\"Gender\" TEXT, \n",
      "\t\"Age\" INTEGER, \n",
      "\t\"Product Category\" TEXT, \n",
      "\t\"Quantity\" INTEGER, \n",
      "\t\"Price per Unit\" INTEGER, \n",
      "\t\"Total Amount\" INTEGER\n",
      ")\n",
      "\n",
      "/*\n",
      "3 rows from Sales table:\n",
      "index\tTransaction ID\tDate\tCustomer ID\tGender\tAge\tProduct Category\tQuantity\tPrice per Unit\tTotal Amount\n",
      "0\t1\t2023-11-24\tCUST001\tMale\t34\tBeauty\t3\t50\t150\n",
      "1\t2\t2023-02-27\tCUST002\tFemale\t26\tClothing\t2\t500\t1000\n",
      "2\t3\t2023-01-13\tCUST003\tMale\t50\tElectronics\t1\t30\t30\n",
      "*/\u001b[0m\u001b[32;1m\u001b[1;3mI have the correct table name and fields. Now I can re-write the query and execute it.\n",
      "Action: sql_db_query\n",
      "Action Input: SELECT \"Product Category\", AVG(\"Total Amount\") \n",
      "FROM \"Sales\" \n",
      "GROUP BY \"Product Category\";\u001b[0m\u001b[36;1m\u001b[1;3m[('Beauty', 467.4755700325733), ('Clothing', 443.2478632478632), ('Electronics', 458.7865497076023)]\u001b[0m\u001b[32;1m\u001b[1;3mI now know the final answer\n",
      "Final Answer: The average sales across different product categories are: Beauty - $467.48, Clothing - $443.25, Electronics - $458.79\u001b[0m\n",
      "\n",
      "\u001b[1m> Finished chain.\u001b[0m\n"
     ]
    },
    {
     "data": {
      "text/plain": [
       "'The average sales across different product categories are: Beauty - $467.48, Clothing - $443.25, Electronics - $458.79'"
      ]
     },
     "execution_count": 45,
     "metadata": {},
     "output_type": "execute_result"
    }
   ],
   "source": [
    "# Define user input - new one\n",
    "user_inquiry = \"What is the average sales across different product category?\"\n",
    "\n",
    "# Run the agent again\n",
    "lc_agent_executor.run(user_inquiry)"
   ]
  },
  {
   "cell_type": "code",
   "execution_count": 72,
   "id": "9ba41d92",
   "metadata": {},
   "outputs": [
    {
     "name": "stdout",
     "output_type": "stream",
     "text": [
      "\n",
      "\n",
      "\u001b[1m> Entering new AgentExecutor chain...\u001b[0m\n",
      "\u001b[32;1m\u001b[1;3mI should check the sales data to see which age group is making the most purchases.\n",
      "Action: sql_db_query_checker\n",
      "Action Input: SELECT age_group, COUNT(*) as total_purchases FROM sales_data GROUP BY age_group ORDER BY total_purchases DESC LIMIT 1;\u001b[0m\u001b[36;1m\u001b[1;3mSELECT age_group, COUNT(*) as total_purchases \n",
      "FROM sales_data \n",
      "GROUP BY age_group \n",
      "ORDER BY total_purchases DESC \n",
      "LIMIT 1;\u001b[0m\u001b[32;1m\u001b[1;3mI need to execute the query to get the result.\n",
      "Action: sql_db_query\n",
      "Action Input: SELECT age_group, COUNT(*) as total_purchases FROM sales_data GROUP BY age_group ORDER BY total_purchases DESC LIMIT 1;\u001b[0m\u001b[36;1m\u001b[1;3mError: (sqlite3.OperationalError) no such table: sales_data\n",
      "[SQL: SELECT age_group, COUNT(*) as total_purchases FROM sales_data GROUP BY age_group ORDER BY total_purchases DESC LIMIT 1;]\n",
      "(Background on this error at: https://sqlalche.me/e/14/e3q8)\u001b[0m\u001b[32;1m\u001b[1;3mI should check the list of tables in the database to see if sales_data exists.\n",
      "Action: sql_db_list_tables\n",
      "Action Input: \u001b[0m\u001b[38;5;200m\u001b[1;3mSales\u001b[0m\u001b[32;1m\u001b[1;3mI need to check the schema of the Sales table to see if it contains the age_group column.\n",
      "Action: sql_db_schema\n",
      "Action Input: Sales\u001b[0m\u001b[33;1m\u001b[1;3m\n",
      "CREATE TABLE \"Sales\" (\n",
      "\t\"index\" INTEGER, \n",
      "\t\"Transaction ID\" INTEGER, \n",
      "\t\"Date\" TEXT, \n",
      "\t\"Customer ID\" TEXT, \n",
      "\t\"Gender\" TEXT, \n",
      "\t\"Age\" INTEGER, \n",
      "\t\"Product Category\" TEXT, \n",
      "\t\"Quantity\" INTEGER, \n",
      "\t\"Price per Unit\" INTEGER, \n",
      "\t\"Total Amount\" INTEGER\n",
      ")\n",
      "\n",
      "/*\n",
      "3 rows from Sales table:\n",
      "index\tTransaction ID\tDate\tCustomer ID\tGender\tAge\tProduct Category\tQuantity\tPrice per Unit\tTotal Amount\n",
      "0\t1\t2023-11-24\tCUST001\tMale\t34\tBeauty\t3\t50\t150\n",
      "1\t2\t2023-02-27\tCUST002\tFemale\t26\tClothing\t2\t500\t1000\n",
      "2\t3\t2023-01-13\tCUST003\tMale\t50\tElectronics\t1\t30\t30\n",
      "*/\u001b[0m\u001b[32;1m\u001b[1;3mI can see that the Sales table does not have an \"age_group\" column, so I need to modify my query to use the \"Age\" column instead.\n",
      "Action: sql_db_query_checker\n",
      "Action Input: SELECT Age, COUNT(*) as total_purchases FROM Sales GROUP BY Age ORDER BY total_purchases DESC LIMIT 1;\u001b[0m\u001b[36;1m\u001b[1;3mSELECT Age, COUNT(*) as total_purchases \n",
      "FROM Sales \n",
      "GROUP BY Age \n",
      "ORDER BY total_purchases DESC \n",
      "LIMIT 1;\u001b[0m\u001b[32;1m\u001b[1;3mI need to execute the corrected query to get the result.\n",
      "Action: sql_db_query\n",
      "Action Input: SELECT Age, COUNT(*) as total_purchases FROM Sales GROUP BY Age ORDER BY total_purchases DESC LIMIT 1;\u001b[0m\u001b[36;1m\u001b[1;3m[(64, 31)]\u001b[0m\u001b[32;1m\u001b[1;3mThe age group buying the most is 64. \n",
      "Final Answer: 64\u001b[0m\n",
      "\n",
      "\u001b[1m> Finished chain.\u001b[0m\n"
     ]
    },
    {
     "data": {
      "text/plain": [
       "'64'"
      ]
     },
     "execution_count": 72,
     "metadata": {},
     "output_type": "execute_result"
    }
   ],
   "source": [
    "# Define user input - new one\n",
    "user_inquiry = \"What age group is buying most?\"\n",
    "\n",
    "# Run the agent again\n",
    "lc_agent_executor.run(user_inquiry)"
   ]
  },
  {
   "cell_type": "markdown",
   "id": "ce51968d",
   "metadata": {},
   "source": [
    "# The use of Prompt templates"
   ]
  },
  {
   "cell_type": "code",
   "execution_count": 49,
   "id": "13809831",
   "metadata": {},
   "outputs": [
    {
     "name": "stdout",
     "output_type": "stream",
     "text": [
      "\n",
      "\n",
      "\u001b[1m> Entering new AgentExecutor chain...\u001b[0m\n",
      "\u001b[32;1m\u001b[1;3mI need to examine the 'Sales' table to see the data in the 'Age' column.\n",
      "Action: sql_db_schema\n",
      "Action Input: Sales\u001b[0m\u001b[33;1m\u001b[1;3m\n",
      "CREATE TABLE \"Sales\" (\n",
      "\t\"index\" INTEGER, \n",
      "\t\"Transaction ID\" INTEGER, \n",
      "\t\"Date\" TEXT, \n",
      "\t\"Customer ID\" TEXT, \n",
      "\t\"Gender\" TEXT, \n",
      "\t\"Age\" INTEGER, \n",
      "\t\"Product Category\" TEXT, \n",
      "\t\"Quantity\" INTEGER, \n",
      "\t\"Price per Unit\" INTEGER, \n",
      "\t\"Total Amount\" INTEGER\n",
      ")\n",
      "\n",
      "/*\n",
      "3 rows from Sales table:\n",
      "index\tTransaction ID\tDate\tCustomer ID\tGender\tAge\tProduct Category\tQuantity\tPrice per Unit\tTotal Amount\n",
      "0\t1\t2023-11-24\tCUST001\tMale\t34\tBeauty\t3\t50\t150\n",
      "1\t2\t2023-02-27\tCUST002\tFemale\t26\tClothing\t2\t500\t1000\n",
      "2\t3\t2023-01-13\tCUST003\tMale\t50\tElectronics\t1\t30\t30\n",
      "*/\u001b[0m\u001b[32;1m\u001b[1;3mI need to write a query to group the ages and count the number of transactions for each age group\n",
      "Action: sql_db_query\n",
      "Action Input: SELECT COUNT(*), \n",
      "    CASE \n",
      "        WHEN Age BETWEEN 21 AND 25 THEN '21-25' \n",
      "        WHEN Age BETWEEN 26 AND 30 THEN '26-30' \n",
      "        WHEN Age BETWEEN 31 AND 35 THEN '31-35' \n",
      "        WHEN Age BETWEEN 36 AND 40 THEN '36-40' \n",
      "        ELSE 'Over 40' \n",
      "    END AS Age_Group\n",
      "FROM Sales\n",
      "GROUP BY Age_Group\u001b[0m\u001b[36;1m\u001b[1;3m[(106, '21-25'), (104, '26-30'), (101, '31-35'), (92, '36-40'), (597, 'Over 40')]\u001b[0m\u001b[32;1m\u001b[1;3mThe age group with the most transactions is 'Over 40'\n",
      "Final Answer: Over 40\u001b[0m\n",
      "\n",
      "\u001b[1m> Finished chain.\u001b[0m\n"
     ]
    },
    {
     "data": {
      "text/plain": [
       "'Over 40'"
      ]
     },
     "execution_count": 49,
     "metadata": {},
     "output_type": "execute_result"
    }
   ],
   "source": [
    "from langchain_core.prompts import PromptTemplate\n",
    "\n",
    "# Create the prompt template\n",
    "template = PromptTemplate(\n",
    "    input_variables=[\"user_inquiry\", \"background_info\"],\n",
    "    template=\"\"\"{background_info}\n",
    "    Question: {user_inquiry}\n",
    "    \"\"\"\n",
    ")\n",
    "\n",
    "# Define the background information\n",
    "background_info = \"\"\"\n",
    "my role is to analyze the transaction patterns of customers. \n",
    "The feature engineering in table 'Sales' is crucial for statistical exploration. For example:\n",
    "- column 'Age' can be grouped into bins of age ranges, such as 21-25, 26-30, and so on.\n",
    "Understanding the data in these columns helps us gain insights about our customers, \n",
    "enabling us to offer personalized services and develop effective marketing strategies.\n",
    "\"\"\"\n",
    "\n",
    "# Define user input\n",
    "user_inquiry = \"What age group is buying most?\"\n",
    "\n",
    "# Run the agent with the formatted template\n",
    "lc_agent_executor.run(template.format(background_info=background_info, user_inquiry=user_inquiry))"
   ]
  },
  {
   "cell_type": "code",
   "execution_count": null,
   "id": "730beec7",
   "metadata": {},
   "outputs": [],
   "source": []
  }
 ],
 "metadata": {
  "kernelspec": {
   "display_name": "Python 3 (ipykernel)",
   "language": "python",
   "name": "python3"
  },
  "language_info": {
   "codemirror_mode": {
    "name": "ipython",
    "version": 3
   },
   "file_extension": ".py",
   "mimetype": "text/x-python",
   "name": "python",
   "nbconvert_exporter": "python",
   "pygments_lexer": "ipython3",
   "version": "3.9.15"
  }
 },
 "nbformat": 4,
 "nbformat_minor": 5
}
