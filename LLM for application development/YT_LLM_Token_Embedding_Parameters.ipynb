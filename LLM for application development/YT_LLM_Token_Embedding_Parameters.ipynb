{
  "nbformat": 4,
  "nbformat_minor": 0,
  "metadata": {
    "colab": {
      "provenance": [],
      "gpuType": "T4"
    },
    "kernelspec": {
      "name": "python3",
      "display_name": "Python 3"
    },
    "language_info": {
      "name": "python"
    },
    "accelerator": "GPU",
    "widgets": {
      "application/vnd.jupyter.widget-state+json": {
        "3afeb9fd84a1444e88612f1f65911b58": {
          "model_module": "@jupyter-widgets/controls",
          "model_name": "HBoxModel",
          "model_module_version": "1.5.0",
          "state": {
            "_dom_classes": [],
            "_model_module": "@jupyter-widgets/controls",
            "_model_module_version": "1.5.0",
            "_model_name": "HBoxModel",
            "_view_count": null,
            "_view_module": "@jupyter-widgets/controls",
            "_view_module_version": "1.5.0",
            "_view_name": "HBoxView",
            "box_style": "",
            "children": [
              "IPY_MODEL_1bb234cce4f64d42ae448e1f8f7db604",
              "IPY_MODEL_b9694cbaf4684b8ebfc4269eaf283fd8",
              "IPY_MODEL_db34bc1d97cf408b8bdbbc72f65bb0e8"
            ],
            "layout": "IPY_MODEL_6d9f9e1236c34c389ffe29803656fa35"
          }
        },
        "1bb234cce4f64d42ae448e1f8f7db604": {
          "model_module": "@jupyter-widgets/controls",
          "model_name": "HTMLModel",
          "model_module_version": "1.5.0",
          "state": {
            "_dom_classes": [],
            "_model_module": "@jupyter-widgets/controls",
            "_model_module_version": "1.5.0",
            "_model_name": "HTMLModel",
            "_view_count": null,
            "_view_module": "@jupyter-widgets/controls",
            "_view_module_version": "1.5.0",
            "_view_name": "HTMLView",
            "description": "",
            "description_tooltip": null,
            "layout": "IPY_MODEL_8e4b86c662a8435cb31f0e125d616b23",
            "placeholder": "​",
            "style": "IPY_MODEL_983e5d16e7e74bea872a0afcc16eae1b",
            "value": "Loading checkpoint shards: 100%"
          }
        },
        "b9694cbaf4684b8ebfc4269eaf283fd8": {
          "model_module": "@jupyter-widgets/controls",
          "model_name": "FloatProgressModel",
          "model_module_version": "1.5.0",
          "state": {
            "_dom_classes": [],
            "_model_module": "@jupyter-widgets/controls",
            "_model_module_version": "1.5.0",
            "_model_name": "FloatProgressModel",
            "_view_count": null,
            "_view_module": "@jupyter-widgets/controls",
            "_view_module_version": "1.5.0",
            "_view_name": "ProgressView",
            "bar_style": "success",
            "description": "",
            "description_tooltip": null,
            "layout": "IPY_MODEL_38fd0441737d469c8e194873de4f3297",
            "max": 2,
            "min": 0,
            "orientation": "horizontal",
            "style": "IPY_MODEL_7983c4734468406891b60c45d8bdc2f1",
            "value": 2
          }
        },
        "db34bc1d97cf408b8bdbbc72f65bb0e8": {
          "model_module": "@jupyter-widgets/controls",
          "model_name": "HTMLModel",
          "model_module_version": "1.5.0",
          "state": {
            "_dom_classes": [],
            "_model_module": "@jupyter-widgets/controls",
            "_model_module_version": "1.5.0",
            "_model_name": "HTMLModel",
            "_view_count": null,
            "_view_module": "@jupyter-widgets/controls",
            "_view_module_version": "1.5.0",
            "_view_name": "HTMLView",
            "description": "",
            "description_tooltip": null,
            "layout": "IPY_MODEL_8c233e5b9d6f41c9b02c297d5a9be541",
            "placeholder": "​",
            "style": "IPY_MODEL_90871117d4c54989b0e2fc000ad18362",
            "value": " 2/2 [00:30&lt;00:00, 15.22s/it]"
          }
        },
        "6d9f9e1236c34c389ffe29803656fa35": {
          "model_module": "@jupyter-widgets/base",
          "model_name": "LayoutModel",
          "model_module_version": "1.2.0",
          "state": {
            "_model_module": "@jupyter-widgets/base",
            "_model_module_version": "1.2.0",
            "_model_name": "LayoutModel",
            "_view_count": null,
            "_view_module": "@jupyter-widgets/base",
            "_view_module_version": "1.2.0",
            "_view_name": "LayoutView",
            "align_content": null,
            "align_items": null,
            "align_self": null,
            "border": null,
            "bottom": null,
            "display": null,
            "flex": null,
            "flex_flow": null,
            "grid_area": null,
            "grid_auto_columns": null,
            "grid_auto_flow": null,
            "grid_auto_rows": null,
            "grid_column": null,
            "grid_gap": null,
            "grid_row": null,
            "grid_template_areas": null,
            "grid_template_columns": null,
            "grid_template_rows": null,
            "height": null,
            "justify_content": null,
            "justify_items": null,
            "left": null,
            "margin": null,
            "max_height": null,
            "max_width": null,
            "min_height": null,
            "min_width": null,
            "object_fit": null,
            "object_position": null,
            "order": null,
            "overflow": null,
            "overflow_x": null,
            "overflow_y": null,
            "padding": null,
            "right": null,
            "top": null,
            "visibility": null,
            "width": null
          }
        },
        "8e4b86c662a8435cb31f0e125d616b23": {
          "model_module": "@jupyter-widgets/base",
          "model_name": "LayoutModel",
          "model_module_version": "1.2.0",
          "state": {
            "_model_module": "@jupyter-widgets/base",
            "_model_module_version": "1.2.0",
            "_model_name": "LayoutModel",
            "_view_count": null,
            "_view_module": "@jupyter-widgets/base",
            "_view_module_version": "1.2.0",
            "_view_name": "LayoutView",
            "align_content": null,
            "align_items": null,
            "align_self": null,
            "border": null,
            "bottom": null,
            "display": null,
            "flex": null,
            "flex_flow": null,
            "grid_area": null,
            "grid_auto_columns": null,
            "grid_auto_flow": null,
            "grid_auto_rows": null,
            "grid_column": null,
            "grid_gap": null,
            "grid_row": null,
            "grid_template_areas": null,
            "grid_template_columns": null,
            "grid_template_rows": null,
            "height": null,
            "justify_content": null,
            "justify_items": null,
            "left": null,
            "margin": null,
            "max_height": null,
            "max_width": null,
            "min_height": null,
            "min_width": null,
            "object_fit": null,
            "object_position": null,
            "order": null,
            "overflow": null,
            "overflow_x": null,
            "overflow_y": null,
            "padding": null,
            "right": null,
            "top": null,
            "visibility": null,
            "width": null
          }
        },
        "983e5d16e7e74bea872a0afcc16eae1b": {
          "model_module": "@jupyter-widgets/controls",
          "model_name": "DescriptionStyleModel",
          "model_module_version": "1.5.0",
          "state": {
            "_model_module": "@jupyter-widgets/controls",
            "_model_module_version": "1.5.0",
            "_model_name": "DescriptionStyleModel",
            "_view_count": null,
            "_view_module": "@jupyter-widgets/base",
            "_view_module_version": "1.2.0",
            "_view_name": "StyleView",
            "description_width": ""
          }
        },
        "38fd0441737d469c8e194873de4f3297": {
          "model_module": "@jupyter-widgets/base",
          "model_name": "LayoutModel",
          "model_module_version": "1.2.0",
          "state": {
            "_model_module": "@jupyter-widgets/base",
            "_model_module_version": "1.2.0",
            "_model_name": "LayoutModel",
            "_view_count": null,
            "_view_module": "@jupyter-widgets/base",
            "_view_module_version": "1.2.0",
            "_view_name": "LayoutView",
            "align_content": null,
            "align_items": null,
            "align_self": null,
            "border": null,
            "bottom": null,
            "display": null,
            "flex": null,
            "flex_flow": null,
            "grid_area": null,
            "grid_auto_columns": null,
            "grid_auto_flow": null,
            "grid_auto_rows": null,
            "grid_column": null,
            "grid_gap": null,
            "grid_row": null,
            "grid_template_areas": null,
            "grid_template_columns": null,
            "grid_template_rows": null,
            "height": null,
            "justify_content": null,
            "justify_items": null,
            "left": null,
            "margin": null,
            "max_height": null,
            "max_width": null,
            "min_height": null,
            "min_width": null,
            "object_fit": null,
            "object_position": null,
            "order": null,
            "overflow": null,
            "overflow_x": null,
            "overflow_y": null,
            "padding": null,
            "right": null,
            "top": null,
            "visibility": null,
            "width": null
          }
        },
        "7983c4734468406891b60c45d8bdc2f1": {
          "model_module": "@jupyter-widgets/controls",
          "model_name": "ProgressStyleModel",
          "model_module_version": "1.5.0",
          "state": {
            "_model_module": "@jupyter-widgets/controls",
            "_model_module_version": "1.5.0",
            "_model_name": "ProgressStyleModel",
            "_view_count": null,
            "_view_module": "@jupyter-widgets/base",
            "_view_module_version": "1.2.0",
            "_view_name": "StyleView",
            "bar_color": null,
            "description_width": ""
          }
        },
        "8c233e5b9d6f41c9b02c297d5a9be541": {
          "model_module": "@jupyter-widgets/base",
          "model_name": "LayoutModel",
          "model_module_version": "1.2.0",
          "state": {
            "_model_module": "@jupyter-widgets/base",
            "_model_module_version": "1.2.0",
            "_model_name": "LayoutModel",
            "_view_count": null,
            "_view_module": "@jupyter-widgets/base",
            "_view_module_version": "1.2.0",
            "_view_name": "LayoutView",
            "align_content": null,
            "align_items": null,
            "align_self": null,
            "border": null,
            "bottom": null,
            "display": null,
            "flex": null,
            "flex_flow": null,
            "grid_area": null,
            "grid_auto_columns": null,
            "grid_auto_flow": null,
            "grid_auto_rows": null,
            "grid_column": null,
            "grid_gap": null,
            "grid_row": null,
            "grid_template_areas": null,
            "grid_template_columns": null,
            "grid_template_rows": null,
            "height": null,
            "justify_content": null,
            "justify_items": null,
            "left": null,
            "margin": null,
            "max_height": null,
            "max_width": null,
            "min_height": null,
            "min_width": null,
            "object_fit": null,
            "object_position": null,
            "order": null,
            "overflow": null,
            "overflow_x": null,
            "overflow_y": null,
            "padding": null,
            "right": null,
            "top": null,
            "visibility": null,
            "width": null
          }
        },
        "90871117d4c54989b0e2fc000ad18362": {
          "model_module": "@jupyter-widgets/controls",
          "model_name": "DescriptionStyleModel",
          "model_module_version": "1.5.0",
          "state": {
            "_model_module": "@jupyter-widgets/controls",
            "_model_module_version": "1.5.0",
            "_model_name": "DescriptionStyleModel",
            "_view_count": null,
            "_view_module": "@jupyter-widgets/base",
            "_view_module_version": "1.2.0",
            "_view_name": "StyleView",
            "description_width": ""
          }
        }
      }
    }
  },
  "cells": [
    {
      "cell_type": "code",
      "source": [
        "from transformers import AutoModelForCausalLM, AutoTokenizer\n",
        "\n",
        "# Load model and tokenizer\n",
        "model = AutoModelForCausalLM.from_pretrained(\n",
        "    \"microsoft/Phi-3-mini-4k-instruct\",\n",
        "    device_map=\"cuda\",\n",
        "    torch_dtype=\"auto\",\n",
        "    trust_remote_code=True,\n",
        ")\n",
        "tokenizer = AutoTokenizer.from_pretrained(\"microsoft/Phi-3-mini-4k-instruct\")"
      ],
      "metadata": {
        "colab": {
          "base_uri": "https://localhost:8080/",
          "height": 49,
          "referenced_widgets": [
            "3afeb9fd84a1444e88612f1f65911b58",
            "1bb234cce4f64d42ae448e1f8f7db604",
            "b9694cbaf4684b8ebfc4269eaf283fd8",
            "db34bc1d97cf408b8bdbbc72f65bb0e8",
            "6d9f9e1236c34c389ffe29803656fa35",
            "8e4b86c662a8435cb31f0e125d616b23",
            "983e5d16e7e74bea872a0afcc16eae1b",
            "38fd0441737d469c8e194873de4f3297",
            "7983c4734468406891b60c45d8bdc2f1",
            "8c233e5b9d6f41c9b02c297d5a9be541",
            "90871117d4c54989b0e2fc000ad18362"
          ]
        },
        "id": "9-WlmoAq9DKp",
        "outputId": "4e67007e-6357-4bbd-81b5-499b8f39a4c6"
      },
      "execution_count": 19,
      "outputs": [
        {
          "output_type": "display_data",
          "data": {
            "text/plain": [
              "Loading checkpoint shards:   0%|          | 0/2 [00:00<?, ?it/s]"
            ],
            "application/vnd.jupyter.widget-view+json": {
              "version_major": 2,
              "version_minor": 0,
              "model_id": "3afeb9fd84a1444e88612f1f65911b58"
            }
          },
          "metadata": {}
        }
      ]
    },
    {
      "cell_type": "code",
      "source": [
        "tokenizer.encode(\"I love Pizza\")"
      ],
      "metadata": {
        "colab": {
          "base_uri": "https://localhost:8080/"
        },
        "id": "5ck8wFMt9t6A",
        "outputId": "a0248401-7e87-4d46-e5da-ece75bb2f30d"
      },
      "execution_count": 20,
      "outputs": [
        {
          "output_type": "execute_result",
          "data": {
            "text/plain": [
              "[306, 5360, 349, 24990]"
            ]
          },
          "metadata": {},
          "execution_count": 20
        }
      ]
    },
    {
      "cell_type": "code",
      "source": [
        "tokenizer.decode([306, 5360, 349, 24990])"
      ],
      "metadata": {
        "colab": {
          "base_uri": "https://localhost:8080/",
          "height": 35
        },
        "id": "Ullc5hRg985v",
        "outputId": "d5440827-afeb-404c-e5f3-d3cbefe9a88b"
      },
      "execution_count": 21,
      "outputs": [
        {
          "output_type": "execute_result",
          "data": {
            "text/plain": [
              "'I love Pizza'"
            ],
            "application/vnd.google.colaboratory.intrinsic+json": {
              "type": "string"
            }
          },
          "metadata": {},
          "execution_count": 21
        }
      ]
    },
    {
      "cell_type": "code",
      "source": [
        "from transformers import AutoTokenizer, BertModel\n",
        "import torch\n",
        "\n",
        "def generate_word_embeddings_bert(text, model_name=\"bert-base-uncased\"):\n",
        "    try:\n",
        "        tokenizer = AutoTokenizer.from_pretrained(model_name)\n",
        "        model = BertModel.from_pretrained(model_name)\n",
        "\n",
        "        # Tokenize the input text\n",
        "        inputs = tokenizer(text, return_tensors=\"pt\", padding=True, truncation=True)\n",
        "\n",
        "        # Get the word embeddings\n",
        "        with torch.no_grad():\n",
        "            outputs = model(**inputs)\n",
        "\n",
        "        # Extract embeddings and corresponding words\n",
        "        embeddings = outputs.last_hidden_state\n",
        "        input_ids = inputs[\"input_ids\"][0]\n",
        "        words = [tokenizer.decode(token_id) for token_id in input_ids]\n",
        "\n",
        "        # Create a dictionary of word embeddings\n",
        "        word_embeddings = {}\n",
        "        for i, word in enumerate(words):\n",
        "            if word not in ['[CLS]', '[SEP]', '[PAD]']:\n",
        "                word_embeddings[word] = embeddings[0, i, :].numpy()\n",
        "\n",
        "        return word_embeddings\n",
        "\n",
        "    except Exception as e:\n",
        "        print(f\"An error occurred: {e}\")\n",
        "        return None"
      ],
      "metadata": {
        "id": "jvZZcVS1-B7c"
      },
      "execution_count": 22,
      "outputs": []
    },
    {
      "cell_type": "code",
      "source": [
        "# Example usage:\n",
        "text1 = \"I was walking on the bank of river\",\n",
        "text2 = \"I went to the bank to withdraw money\"\n",
        "embeddings = generate_word_embeddings_bert(text2)\n",
        "\n",
        "if embeddings:\n",
        "    for word, embedding in embeddings.items():\n",
        "        print(f\"{word}: {embedding[:5]}...\")"
      ],
      "metadata": {
        "colab": {
          "base_uri": "https://localhost:8080/"
        },
        "id": "a7qympvF-hEY",
        "outputId": "fe3826b5-d965-4066-e6fc-034209cbeda1"
      },
      "execution_count": 24,
      "outputs": [
        {
          "output_type": "stream",
          "name": "stdout",
          "text": [
            "i: [ 0.58092195 -0.2949463  -0.2789928   0.5095507   0.00133457]...\n",
            "went: [ 0.4387233  -0.69758373  0.0393692   0.5055915  -0.04782405]...\n",
            "to: [ 0.23749965 -0.23734832  0.10270531  0.20308943 -0.301301  ]...\n",
            "the: [ 0.38239807 -0.6787178  -0.07699291  0.6969222   0.35928556]...\n",
            "bank: [ 0.43778786 -0.44205457  0.01638133 -0.08081906  0.83776623]...\n",
            "withdraw: [ 0.4293537   0.2597395   0.5665406  -0.37747672  0.46020743]...\n",
            "money: [ 0.39729798 -0.47736964 -0.19738731 -0.03174865  0.3494065 ]...\n"
          ]
        }
      ]
    },
    {
      "cell_type": "code",
      "source": [
        "bank: [-0.16297182 -0.1512853  -0.08349326 -0.42740345 -0.15986079]...\n",
        "bank: [ 0.43778786 -0.44205457  0.01638133 -0.08081906  0.83776623]..."
      ],
      "metadata": {
        "id": "MNVQO7C2-qHC"
      },
      "execution_count": null,
      "outputs": []
    },
    {
      "cell_type": "code",
      "source": [
        "import numpy as np\n",
        "import tensorflow as tf\n",
        "from sklearn.model_selection import train_test_split"
      ],
      "metadata": {
        "id": "beHEP4IKBwgc"
      },
      "execution_count": 25,
      "outputs": []
    },
    {
      "cell_type": "code",
      "source": [
        "# Training data\n",
        "sentences = [\n",
        "    \"the fluffy cat that was sleeping under the table woke up and stretched\",\n",
        "    \"the old dog that had been chasing squirrels all day finally rested\",\n",
        "    \"the small bird that flew away from the nest returned to its mother\",\n",
        "    \"the big house that stood on the hill overlooked the entire valley\",\n",
        "    \"the curious child who found a hidden door opened it carefully\",\n",
        "    \"the talented musician who played the violin performed a beautiful piece\",\n",
        "    \"the adventurous traveler who explored the ancient ruins discovered a secret passage\",\n",
        "    \"the dedicated scientist who studied the rare flower found a new species\"\n",
        "]"
      ],
      "metadata": {
        "id": "IGYpGwUFB0e7"
      },
      "execution_count": 26,
      "outputs": []
    },
    {
      "cell_type": "code",
      "source": [
        "# Create vocabulary\n",
        "words = set()\n",
        "for sentence in sentences:\n",
        "    for word in sentence.split():\n",
        "        words.add(word)\n",
        "words = list(words)"
      ],
      "metadata": {
        "id": "4pxeQCCUB5xE"
      },
      "execution_count": 27,
      "outputs": []
    },
    {
      "cell_type": "code",
      "source": [
        "words"
      ],
      "metadata": {
        "colab": {
          "base_uri": "https://localhost:8080/"
        },
        "id": "l8-lhz6ZB-52",
        "outputId": "f327880c-2de0-4441-e4d4-52688f0251b9"
      },
      "execution_count": 28,
      "outputs": [
        {
          "output_type": "execute_result",
          "data": {
            "text/plain": [
              "['cat',\n",
              " 'door',\n",
              " 'stretched',\n",
              " 'table',\n",
              " 'bird',\n",
              " 'returned',\n",
              " 'musician',\n",
              " 'traveler',\n",
              " 'woke',\n",
              " 'had',\n",
              " 'away',\n",
              " 'house',\n",
              " 'beautiful',\n",
              " 'new',\n",
              " 'small',\n",
              " 'it',\n",
              " 'stood',\n",
              " 'piece',\n",
              " 'and',\n",
              " 'curious',\n",
              " 'species',\n",
              " 'sleeping',\n",
              " 'performed',\n",
              " 'a',\n",
              " 'finally',\n",
              " 'flower',\n",
              " 'the',\n",
              " 'on',\n",
              " 'hidden',\n",
              " 'carefully',\n",
              " 'all',\n",
              " 'scientist',\n",
              " 'opened',\n",
              " 'ancient',\n",
              " 'nest',\n",
              " 'from',\n",
              " 'overlooked',\n",
              " 'valley',\n",
              " 'passage',\n",
              " 'explored',\n",
              " 'was',\n",
              " 'adventurous',\n",
              " 'mother',\n",
              " 'up',\n",
              " 'ruins',\n",
              " 'squirrels',\n",
              " 'violin',\n",
              " 'been',\n",
              " 'studied',\n",
              " 'chasing',\n",
              " 'under',\n",
              " 'discovered',\n",
              " 'dog',\n",
              " 'secret',\n",
              " 'to',\n",
              " 'hill',\n",
              " 'fluffy',\n",
              " 'day',\n",
              " 'big',\n",
              " 'dedicated',\n",
              " 'old',\n",
              " 'played',\n",
              " 'its',\n",
              " 'who',\n",
              " 'talented',\n",
              " 'rare',\n",
              " 'found',\n",
              " 'child',\n",
              " 'rested',\n",
              " 'that',\n",
              " 'entire',\n",
              " 'flew']"
            ]
          },
          "metadata": {},
          "execution_count": 28
        }
      ]
    },
    {
      "cell_type": "code",
      "source": [
        "word_to_index = {word: i for i, word in enumerate(words)}\n",
        "index_to_word = {i: word for i, word in enumerate(words)}"
      ],
      "metadata": {
        "id": "TcJz2fT2B_sN"
      },
      "execution_count": 29,
      "outputs": []
    },
    {
      "cell_type": "code",
      "source": [
        "word_to_index"
      ],
      "metadata": {
        "colab": {
          "base_uri": "https://localhost:8080/"
        },
        "id": "AAsMS8dACGdl",
        "outputId": "476815e3-d84d-43ee-cd50-4ce71cab5516"
      },
      "execution_count": 30,
      "outputs": [
        {
          "output_type": "execute_result",
          "data": {
            "text/plain": [
              "{'cat': 0,\n",
              " 'door': 1,\n",
              " 'stretched': 2,\n",
              " 'table': 3,\n",
              " 'bird': 4,\n",
              " 'returned': 5,\n",
              " 'musician': 6,\n",
              " 'traveler': 7,\n",
              " 'woke': 8,\n",
              " 'had': 9,\n",
              " 'away': 10,\n",
              " 'house': 11,\n",
              " 'beautiful': 12,\n",
              " 'new': 13,\n",
              " 'small': 14,\n",
              " 'it': 15,\n",
              " 'stood': 16,\n",
              " 'piece': 17,\n",
              " 'and': 18,\n",
              " 'curious': 19,\n",
              " 'species': 20,\n",
              " 'sleeping': 21,\n",
              " 'performed': 22,\n",
              " 'a': 23,\n",
              " 'finally': 24,\n",
              " 'flower': 25,\n",
              " 'the': 26,\n",
              " 'on': 27,\n",
              " 'hidden': 28,\n",
              " 'carefully': 29,\n",
              " 'all': 30,\n",
              " 'scientist': 31,\n",
              " 'opened': 32,\n",
              " 'ancient': 33,\n",
              " 'nest': 34,\n",
              " 'from': 35,\n",
              " 'overlooked': 36,\n",
              " 'valley': 37,\n",
              " 'passage': 38,\n",
              " 'explored': 39,\n",
              " 'was': 40,\n",
              " 'adventurous': 41,\n",
              " 'mother': 42,\n",
              " 'up': 43,\n",
              " 'ruins': 44,\n",
              " 'squirrels': 45,\n",
              " 'violin': 46,\n",
              " 'been': 47,\n",
              " 'studied': 48,\n",
              " 'chasing': 49,\n",
              " 'under': 50,\n",
              " 'discovered': 51,\n",
              " 'dog': 52,\n",
              " 'secret': 53,\n",
              " 'to': 54,\n",
              " 'hill': 55,\n",
              " 'fluffy': 56,\n",
              " 'day': 57,\n",
              " 'big': 58,\n",
              " 'dedicated': 59,\n",
              " 'old': 60,\n",
              " 'played': 61,\n",
              " 'its': 62,\n",
              " 'who': 63,\n",
              " 'talented': 64,\n",
              " 'rare': 65,\n",
              " 'found': 66,\n",
              " 'child': 67,\n",
              " 'rested': 68,\n",
              " 'that': 69,\n",
              " 'entire': 70,\n",
              " 'flew': 71}"
            ]
          },
          "metadata": {},
          "execution_count": 30
        }
      ]
    },
    {
      "cell_type": "code",
      "source": [
        "index_to_word"
      ],
      "metadata": {
        "colab": {
          "base_uri": "https://localhost:8080/"
        },
        "id": "PJ00OX1ZCHv0",
        "outputId": "db55f82b-65fa-407f-9987-854d5581802d"
      },
      "execution_count": 31,
      "outputs": [
        {
          "output_type": "execute_result",
          "data": {
            "text/plain": [
              "{0: 'cat',\n",
              " 1: 'door',\n",
              " 2: 'stretched',\n",
              " 3: 'table',\n",
              " 4: 'bird',\n",
              " 5: 'returned',\n",
              " 6: 'musician',\n",
              " 7: 'traveler',\n",
              " 8: 'woke',\n",
              " 9: 'had',\n",
              " 10: 'away',\n",
              " 11: 'house',\n",
              " 12: 'beautiful',\n",
              " 13: 'new',\n",
              " 14: 'small',\n",
              " 15: 'it',\n",
              " 16: 'stood',\n",
              " 17: 'piece',\n",
              " 18: 'and',\n",
              " 19: 'curious',\n",
              " 20: 'species',\n",
              " 21: 'sleeping',\n",
              " 22: 'performed',\n",
              " 23: 'a',\n",
              " 24: 'finally',\n",
              " 25: 'flower',\n",
              " 26: 'the',\n",
              " 27: 'on',\n",
              " 28: 'hidden',\n",
              " 29: 'carefully',\n",
              " 30: 'all',\n",
              " 31: 'scientist',\n",
              " 32: 'opened',\n",
              " 33: 'ancient',\n",
              " 34: 'nest',\n",
              " 35: 'from',\n",
              " 36: 'overlooked',\n",
              " 37: 'valley',\n",
              " 38: 'passage',\n",
              " 39: 'explored',\n",
              " 40: 'was',\n",
              " 41: 'adventurous',\n",
              " 42: 'mother',\n",
              " 43: 'up',\n",
              " 44: 'ruins',\n",
              " 45: 'squirrels',\n",
              " 46: 'violin',\n",
              " 47: 'been',\n",
              " 48: 'studied',\n",
              " 49: 'chasing',\n",
              " 50: 'under',\n",
              " 51: 'discovered',\n",
              " 52: 'dog',\n",
              " 53: 'secret',\n",
              " 54: 'to',\n",
              " 55: 'hill',\n",
              " 56: 'fluffy',\n",
              " 57: 'day',\n",
              " 58: 'big',\n",
              " 59: 'dedicated',\n",
              " 60: 'old',\n",
              " 61: 'played',\n",
              " 62: 'its',\n",
              " 63: 'who',\n",
              " 64: 'talented',\n",
              " 65: 'rare',\n",
              " 66: 'found',\n",
              " 67: 'child',\n",
              " 68: 'rested',\n",
              " 69: 'that',\n",
              " 70: 'entire',\n",
              " 71: 'flew'}"
            ]
          },
          "metadata": {},
          "execution_count": 31
        }
      ]
    },
    {
      "cell_type": "code",
      "source": [
        "vocab_size = len(words)"
      ],
      "metadata": {
        "id": "zQ_jHf2OCKGg"
      },
      "execution_count": 32,
      "outputs": []
    },
    {
      "cell_type": "code",
      "source": [
        "vocab_size"
      ],
      "metadata": {
        "colab": {
          "base_uri": "https://localhost:8080/"
        },
        "id": "8MbO_Q0JCQMI",
        "outputId": "ca7aa7b2-f01a-41d7-e755-74f3ab25bb2f"
      },
      "execution_count": 33,
      "outputs": [
        {
          "output_type": "execute_result",
          "data": {
            "text/plain": [
              "72"
            ]
          },
          "metadata": {},
          "execution_count": 33
        }
      ]
    },
    {
      "cell_type": "code",
      "source": [
        "X_pairs = []\n",
        "y_next = []"
      ],
      "metadata": {
        "id": "wJLFl4StCcW2"
      },
      "execution_count": 35,
      "outputs": []
    },
    {
      "cell_type": "code",
      "source": [
        "for sentence in sentences:\n",
        "    sentence_words = sentence.split()\n",
        "    for i in range(len(sentence_words) - 2):\n",
        "        X_pairs.append([word_to_index[sentence_words[i]], word_to_index[sentence_words[i + 1]]])\n",
        "        y_next.append(word_to_index[sentence_words[i + 2]])"
      ],
      "metadata": {
        "id": "PecFHGLsCSMC"
      },
      "execution_count": 36,
      "outputs": []
    },
    {
      "cell_type": "code",
      "source": [
        "X_pairs"
      ],
      "metadata": {
        "colab": {
          "base_uri": "https://localhost:8080/"
        },
        "id": "rG8PHAjACfiF",
        "outputId": "50d44c97-a6ef-4790-8afd-94e7e0736dae"
      },
      "execution_count": 37,
      "outputs": [
        {
          "output_type": "execute_result",
          "data": {
            "text/plain": [
              "[[26, 56],\n",
              " [56, 0],\n",
              " [0, 69],\n",
              " [69, 40],\n",
              " [40, 21],\n",
              " [21, 50],\n",
              " [50, 26],\n",
              " [26, 3],\n",
              " [3, 8],\n",
              " [8, 43],\n",
              " [43, 18],\n",
              " [26, 60],\n",
              " [60, 52],\n",
              " [52, 69],\n",
              " [69, 9],\n",
              " [9, 47],\n",
              " [47, 49],\n",
              " [49, 45],\n",
              " [45, 30],\n",
              " [30, 57],\n",
              " [57, 24],\n",
              " [26, 14],\n",
              " [14, 4],\n",
              " [4, 69],\n",
              " [69, 71],\n",
              " [71, 10],\n",
              " [10, 35],\n",
              " [35, 26],\n",
              " [26, 34],\n",
              " [34, 5],\n",
              " [5, 54],\n",
              " [54, 62],\n",
              " [26, 58],\n",
              " [58, 11],\n",
              " [11, 69],\n",
              " [69, 16],\n",
              " [16, 27],\n",
              " [27, 26],\n",
              " [26, 55],\n",
              " [55, 36],\n",
              " [36, 26],\n",
              " [26, 70],\n",
              " [26, 19],\n",
              " [19, 67],\n",
              " [67, 63],\n",
              " [63, 66],\n",
              " [66, 23],\n",
              " [23, 28],\n",
              " [28, 1],\n",
              " [1, 32],\n",
              " [32, 15],\n",
              " [26, 64],\n",
              " [64, 6],\n",
              " [6, 63],\n",
              " [63, 61],\n",
              " [61, 26],\n",
              " [26, 46],\n",
              " [46, 22],\n",
              " [22, 23],\n",
              " [23, 12],\n",
              " [26, 41],\n",
              " [41, 7],\n",
              " [7, 63],\n",
              " [63, 39],\n",
              " [39, 26],\n",
              " [26, 33],\n",
              " [33, 44],\n",
              " [44, 51],\n",
              " [51, 23],\n",
              " [23, 53],\n",
              " [26, 59],\n",
              " [59, 31],\n",
              " [31, 63],\n",
              " [63, 48],\n",
              " [48, 26],\n",
              " [26, 65],\n",
              " [65, 25],\n",
              " [25, 66],\n",
              " [66, 23],\n",
              " [23, 13]]"
            ]
          },
          "metadata": {},
          "execution_count": 37
        }
      ]
    },
    {
      "cell_type": "code",
      "source": [
        "y_next"
      ],
      "metadata": {
        "colab": {
          "base_uri": "https://localhost:8080/"
        },
        "id": "A6omAARnCf6Z",
        "outputId": "83ac83b6-eba2-4ac0-b6ae-650177e6d7a0"
      },
      "execution_count": 38,
      "outputs": [
        {
          "output_type": "execute_result",
          "data": {
            "text/plain": [
              "[0,\n",
              " 69,\n",
              " 40,\n",
              " 21,\n",
              " 50,\n",
              " 26,\n",
              " 3,\n",
              " 8,\n",
              " 43,\n",
              " 18,\n",
              " 2,\n",
              " 52,\n",
              " 69,\n",
              " 9,\n",
              " 47,\n",
              " 49,\n",
              " 45,\n",
              " 30,\n",
              " 57,\n",
              " 24,\n",
              " 68,\n",
              " 4,\n",
              " 69,\n",
              " 71,\n",
              " 10,\n",
              " 35,\n",
              " 26,\n",
              " 34,\n",
              " 5,\n",
              " 54,\n",
              " 62,\n",
              " 42,\n",
              " 11,\n",
              " 69,\n",
              " 16,\n",
              " 27,\n",
              " 26,\n",
              " 55,\n",
              " 36,\n",
              " 26,\n",
              " 70,\n",
              " 37,\n",
              " 67,\n",
              " 63,\n",
              " 66,\n",
              " 23,\n",
              " 28,\n",
              " 1,\n",
              " 32,\n",
              " 15,\n",
              " 29,\n",
              " 6,\n",
              " 63,\n",
              " 61,\n",
              " 26,\n",
              " 46,\n",
              " 22,\n",
              " 23,\n",
              " 12,\n",
              " 17,\n",
              " 7,\n",
              " 63,\n",
              " 39,\n",
              " 26,\n",
              " 33,\n",
              " 44,\n",
              " 51,\n",
              " 23,\n",
              " 53,\n",
              " 38,\n",
              " 31,\n",
              " 63,\n",
              " 48,\n",
              " 26,\n",
              " 65,\n",
              " 25,\n",
              " 66,\n",
              " 23,\n",
              " 13,\n",
              " 20]"
            ]
          },
          "metadata": {},
          "execution_count": 38
        }
      ]
    },
    {
      "cell_type": "code",
      "source": [
        "X_pairs = np.array(X_pairs)\n",
        "y_next = np.array(y_next)"
      ],
      "metadata": {
        "id": "FdCuu0kFCj-5"
      },
      "execution_count": 39,
      "outputs": []
    },
    {
      "cell_type": "code",
      "source": [
        "# Split data\n",
        "X_train, X_test, y_train, y_test = train_test_split(X_pairs, y_next, test_size=0.2, random_state=42)"
      ],
      "metadata": {
        "id": "nRUiUj7xC1Ut"
      },
      "execution_count": 40,
      "outputs": []
    },
    {
      "cell_type": "code",
      "source": [
        "# Model\n",
        "embedding_dim = 5"
      ],
      "metadata": {
        "id": "rnpo3uDTC26U"
      },
      "execution_count": 42,
      "outputs": []
    },
    {
      "cell_type": "code",
      "source": [
        "model = tf.keras.Sequential([\n",
        "    tf.keras.layers.Embedding(vocab_size, embedding_dim),\n",
        "    tf.keras.layers.Flatten(),\n",
        "    tf.keras.layers.Dense(8, activation='relu'),\n",
        "    tf.keras.layers.Dense(vocab_size, activation='softmax')\n",
        "\n",
        "  ])"
      ],
      "metadata": {
        "id": "BrleIhzFC-Yf"
      },
      "execution_count": 43,
      "outputs": []
    },
    {
      "cell_type": "code",
      "source": [
        "model.compile(optimizer='adam', loss='sparse_categorical_crossentropy', metrics=['accuracy'])"
      ],
      "metadata": {
        "id": "bCPlBA1wDuaK"
      },
      "execution_count": 44,
      "outputs": []
    },
    {
      "cell_type": "code",
      "source": [
        "model.fit(X_train, y_train, epochs=20, verbose=1)"
      ],
      "metadata": {
        "colab": {
          "base_uri": "https://localhost:8080/"
        },
        "id": "k8aJyLDFDxil",
        "outputId": "50df8c41-26c1-4082-f83e-cbb30c015796"
      },
      "execution_count": 45,
      "outputs": [
        {
          "output_type": "stream",
          "name": "stdout",
          "text": [
            "Epoch 1/20\n",
            "\u001b[1m2/2\u001b[0m \u001b[32m━━━━━━━━━━━━━━━━━━━━\u001b[0m\u001b[37m\u001b[0m \u001b[1m3s\u001b[0m 31ms/step - accuracy: 0.0000e+00 - loss: 4.2765\n",
            "Epoch 2/20\n",
            "\u001b[1m2/2\u001b[0m \u001b[32m━━━━━━━━━━━━━━━━━━━━\u001b[0m\u001b[37m\u001b[0m \u001b[1m0s\u001b[0m 27ms/step - accuracy: 0.0000e+00 - loss: 4.2742\n",
            "Epoch 3/20\n",
            "\u001b[1m2/2\u001b[0m \u001b[32m━━━━━━━━━━━━━━━━━━━━\u001b[0m\u001b[37m\u001b[0m \u001b[1m0s\u001b[0m 26ms/step - accuracy: 0.0000e+00 - loss: 4.2722\n",
            "Epoch 4/20\n",
            "\u001b[1m2/2\u001b[0m \u001b[32m━━━━━━━━━━━━━━━━━━━━\u001b[0m\u001b[37m\u001b[0m \u001b[1m0s\u001b[0m 26ms/step - accuracy: 0.0208 - loss: 4.2707\n",
            "Epoch 5/20\n",
            "\u001b[1m2/2\u001b[0m \u001b[32m━━━━━━━━━━━━━━━━━━━━\u001b[0m\u001b[37m\u001b[0m \u001b[1m0s\u001b[0m 26ms/step - accuracy: 0.0312 - loss: 4.2695\n",
            "Epoch 6/20\n",
            "\u001b[1m2/2\u001b[0m \u001b[32m━━━━━━━━━━━━━━━━━━━━\u001b[0m\u001b[37m\u001b[0m \u001b[1m0s\u001b[0m 26ms/step - accuracy: 0.0417 - loss: 4.2658\n",
            "Epoch 7/20\n",
            "\u001b[1m2/2\u001b[0m \u001b[32m━━━━━━━━━━━━━━━━━━━━\u001b[0m\u001b[37m\u001b[0m \u001b[1m0s\u001b[0m 26ms/step - accuracy: 0.0312 - loss: 4.2643\n",
            "Epoch 8/20\n",
            "\u001b[1m2/2\u001b[0m \u001b[32m━━━━━━━━━━━━━━━━━━━━\u001b[0m\u001b[37m\u001b[0m \u001b[1m0s\u001b[0m 42ms/step - accuracy: 0.0312 - loss: 4.2631\n",
            "Epoch 9/20\n",
            "\u001b[1m2/2\u001b[0m \u001b[32m━━━━━━━━━━━━━━━━━━━━\u001b[0m\u001b[37m\u001b[0m \u001b[1m0s\u001b[0m 36ms/step - accuracy: 0.0208 - loss: 4.2594     \n",
            "Epoch 10/20\n",
            "\u001b[1m2/2\u001b[0m \u001b[32m━━━━━━━━━━━━━━━━━━━━\u001b[0m\u001b[37m\u001b[0m \u001b[1m0s\u001b[0m 28ms/step - accuracy: 0.0417 - loss: 4.2592\n",
            "Epoch 11/20\n",
            "\u001b[1m2/2\u001b[0m \u001b[32m━━━━━━━━━━━━━━━━━━━━\u001b[0m\u001b[37m\u001b[0m \u001b[1m0s\u001b[0m 26ms/step - accuracy: 0.0521 - loss: 4.2560\n",
            "Epoch 12/20\n",
            "\u001b[1m2/2\u001b[0m \u001b[32m━━━━━━━━━━━━━━━━━━━━\u001b[0m\u001b[37m\u001b[0m \u001b[1m0s\u001b[0m 28ms/step - accuracy: 0.0729 - loss: 4.2537 \n",
            "Epoch 13/20\n",
            "\u001b[1m2/2\u001b[0m \u001b[32m━━━━━━━━━━━━━━━━━━━━\u001b[0m\u001b[37m\u001b[0m \u001b[1m0s\u001b[0m 27ms/step - accuracy: 0.0521 - loss: 4.2513\n",
            "Epoch 14/20\n",
            "\u001b[1m2/2\u001b[0m \u001b[32m━━━━━━━━━━━━━━━━━━━━\u001b[0m\u001b[37m\u001b[0m \u001b[1m0s\u001b[0m 27ms/step - accuracy: 0.0729 - loss: 4.2482\n",
            "Epoch 15/20\n",
            "\u001b[1m2/2\u001b[0m \u001b[32m━━━━━━━━━━━━━━━━━━━━\u001b[0m\u001b[37m\u001b[0m \u001b[1m0s\u001b[0m 27ms/step - accuracy: 0.0625 - loss: 4.2468\n",
            "Epoch 16/20\n",
            "\u001b[1m2/2\u001b[0m \u001b[32m━━━━━━━━━━━━━━━━━━━━\u001b[0m\u001b[37m\u001b[0m \u001b[1m0s\u001b[0m 26ms/step - accuracy: 0.0729 - loss: 4.2447\n",
            "Epoch 17/20\n",
            "\u001b[1m2/2\u001b[0m \u001b[32m━━━━━━━━━━━━━━━━━━━━\u001b[0m\u001b[37m\u001b[0m \u001b[1m0s\u001b[0m 27ms/step - accuracy: 0.0938 - loss: 4.2428\n",
            "Epoch 18/20\n",
            "\u001b[1m2/2\u001b[0m \u001b[32m━━━━━━━━━━━━━━━━━━━━\u001b[0m\u001b[37m\u001b[0m \u001b[1m0s\u001b[0m 26ms/step - accuracy: 0.0833 - loss: 4.2378\n",
            "Epoch 19/20\n",
            "\u001b[1m2/2\u001b[0m \u001b[32m━━━━━━━━━━━━━━━━━━━━\u001b[0m\u001b[37m\u001b[0m \u001b[1m0s\u001b[0m 26ms/step - accuracy: 0.1042 - loss: 4.2354\n",
            "Epoch 20/20\n",
            "\u001b[1m2/2\u001b[0m \u001b[32m━━━━━━━━━━━━━━━━━━━━\u001b[0m\u001b[37m\u001b[0m \u001b[1m0s\u001b[0m 28ms/step - accuracy: 0.0938 - loss: 4.2335\n"
          ]
        },
        {
          "output_type": "execute_result",
          "data": {
            "text/plain": [
              "<keras.src.callbacks.history.History at 0x7fa5701de690>"
            ]
          },
          "metadata": {},
          "execution_count": 45
        }
      ]
    },
    {
      "cell_type": "code",
      "source": [
        "model.summary()"
      ],
      "metadata": {
        "colab": {
          "base_uri": "https://localhost:8080/",
          "height": 273
        },
        "id": "DDN4qMTMD10K",
        "outputId": "2beb4b71-a2d5-4292-d06f-fb6fad77650d"
      },
      "execution_count": 46,
      "outputs": [
        {
          "output_type": "display_data",
          "data": {
            "text/plain": [
              "\u001b[1mModel: \"sequential_1\"\u001b[0m\n"
            ],
            "text/html": [
              "<pre style=\"white-space:pre;overflow-x:auto;line-height:normal;font-family:Menlo,'DejaVu Sans Mono',consolas,'Courier New',monospace\"><span style=\"font-weight: bold\">Model: \"sequential_1\"</span>\n",
              "</pre>\n"
            ]
          },
          "metadata": {}
        },
        {
          "output_type": "display_data",
          "data": {
            "text/plain": [
              "┏━━━━━━━━━━━━━━━━━━━━━━━━━━━━━━━━━━━━━━┳━━━━━━━━━━━━━━━━━━━━━━━━━━━━━┳━━━━━━━━━━━━━━━━━┓\n",
              "┃\u001b[1m \u001b[0m\u001b[1mLayer (type)                        \u001b[0m\u001b[1m \u001b[0m┃\u001b[1m \u001b[0m\u001b[1mOutput Shape               \u001b[0m\u001b[1m \u001b[0m┃\u001b[1m \u001b[0m\u001b[1m        Param #\u001b[0m\u001b[1m \u001b[0m┃\n",
              "┡━━━━━━━━━━━━━━━━━━━━━━━━━━━━━━━━━━━━━━╇━━━━━━━━━━━━━━━━━━━━━━━━━━━━━╇━━━━━━━━━━━━━━━━━┩\n",
              "│ embedding_1 (\u001b[38;5;33mEmbedding\u001b[0m)              │ (\u001b[38;5;34m32\u001b[0m, \u001b[38;5;34m2\u001b[0m, \u001b[38;5;34m5\u001b[0m)                  │             \u001b[38;5;34m360\u001b[0m │\n",
              "├──────────────────────────────────────┼─────────────────────────────┼─────────────────┤\n",
              "│ flatten_1 (\u001b[38;5;33mFlatten\u001b[0m)                  │ (\u001b[38;5;34m32\u001b[0m, \u001b[38;5;34m10\u001b[0m)                    │               \u001b[38;5;34m0\u001b[0m │\n",
              "├──────────────────────────────────────┼─────────────────────────────┼─────────────────┤\n",
              "│ dense_2 (\u001b[38;5;33mDense\u001b[0m)                      │ (\u001b[38;5;34m32\u001b[0m, \u001b[38;5;34m8\u001b[0m)                     │              \u001b[38;5;34m88\u001b[0m │\n",
              "├──────────────────────────────────────┼─────────────────────────────┼─────────────────┤\n",
              "│ dense_3 (\u001b[38;5;33mDense\u001b[0m)                      │ (\u001b[38;5;34m32\u001b[0m, \u001b[38;5;34m72\u001b[0m)                    │             \u001b[38;5;34m648\u001b[0m │\n",
              "└──────────────────────────────────────┴─────────────────────────────┴─────────────────┘\n"
            ],
            "text/html": [
              "<pre style=\"white-space:pre;overflow-x:auto;line-height:normal;font-family:Menlo,'DejaVu Sans Mono',consolas,'Courier New',monospace\">┏━━━━━━━━━━━━━━━━━━━━━━━━━━━━━━━━━━━━━━┳━━━━━━━━━━━━━━━━━━━━━━━━━━━━━┳━━━━━━━━━━━━━━━━━┓\n",
              "┃<span style=\"font-weight: bold\"> Layer (type)                         </span>┃<span style=\"font-weight: bold\"> Output Shape                </span>┃<span style=\"font-weight: bold\">         Param # </span>┃\n",
              "┡━━━━━━━━━━━━━━━━━━━━━━━━━━━━━━━━━━━━━━╇━━━━━━━━━━━━━━━━━━━━━━━━━━━━━╇━━━━━━━━━━━━━━━━━┩\n",
              "│ embedding_1 (<span style=\"color: #0087ff; text-decoration-color: #0087ff\">Embedding</span>)              │ (<span style=\"color: #00af00; text-decoration-color: #00af00\">32</span>, <span style=\"color: #00af00; text-decoration-color: #00af00\">2</span>, <span style=\"color: #00af00; text-decoration-color: #00af00\">5</span>)                  │             <span style=\"color: #00af00; text-decoration-color: #00af00\">360</span> │\n",
              "├──────────────────────────────────────┼─────────────────────────────┼─────────────────┤\n",
              "│ flatten_1 (<span style=\"color: #0087ff; text-decoration-color: #0087ff\">Flatten</span>)                  │ (<span style=\"color: #00af00; text-decoration-color: #00af00\">32</span>, <span style=\"color: #00af00; text-decoration-color: #00af00\">10</span>)                    │               <span style=\"color: #00af00; text-decoration-color: #00af00\">0</span> │\n",
              "├──────────────────────────────────────┼─────────────────────────────┼─────────────────┤\n",
              "│ dense_2 (<span style=\"color: #0087ff; text-decoration-color: #0087ff\">Dense</span>)                      │ (<span style=\"color: #00af00; text-decoration-color: #00af00\">32</span>, <span style=\"color: #00af00; text-decoration-color: #00af00\">8</span>)                     │              <span style=\"color: #00af00; text-decoration-color: #00af00\">88</span> │\n",
              "├──────────────────────────────────────┼─────────────────────────────┼─────────────────┤\n",
              "│ dense_3 (<span style=\"color: #0087ff; text-decoration-color: #0087ff\">Dense</span>)                      │ (<span style=\"color: #00af00; text-decoration-color: #00af00\">32</span>, <span style=\"color: #00af00; text-decoration-color: #00af00\">72</span>)                    │             <span style=\"color: #00af00; text-decoration-color: #00af00\">648</span> │\n",
              "└──────────────────────────────────────┴─────────────────────────────┴─────────────────┘\n",
              "</pre>\n"
            ]
          },
          "metadata": {}
        },
        {
          "output_type": "display_data",
          "data": {
            "text/plain": [
              "\u001b[1m Total params: \u001b[0m\u001b[38;5;34m3,290\u001b[0m (12.86 KB)\n"
            ],
            "text/html": [
              "<pre style=\"white-space:pre;overflow-x:auto;line-height:normal;font-family:Menlo,'DejaVu Sans Mono',consolas,'Courier New',monospace\"><span style=\"font-weight: bold\"> Total params: </span><span style=\"color: #00af00; text-decoration-color: #00af00\">3,290</span> (12.86 KB)\n",
              "</pre>\n"
            ]
          },
          "metadata": {}
        },
        {
          "output_type": "display_data",
          "data": {
            "text/plain": [
              "\u001b[1m Trainable params: \u001b[0m\u001b[38;5;34m1,096\u001b[0m (4.28 KB)\n"
            ],
            "text/html": [
              "<pre style=\"white-space:pre;overflow-x:auto;line-height:normal;font-family:Menlo,'DejaVu Sans Mono',consolas,'Courier New',monospace\"><span style=\"font-weight: bold\"> Trainable params: </span><span style=\"color: #00af00; text-decoration-color: #00af00\">1,096</span> (4.28 KB)\n",
              "</pre>\n"
            ]
          },
          "metadata": {}
        },
        {
          "output_type": "display_data",
          "data": {
            "text/plain": [
              "\u001b[1m Non-trainable params: \u001b[0m\u001b[38;5;34m0\u001b[0m (0.00 B)\n"
            ],
            "text/html": [
              "<pre style=\"white-space:pre;overflow-x:auto;line-height:normal;font-family:Menlo,'DejaVu Sans Mono',consolas,'Courier New',monospace\"><span style=\"font-weight: bold\"> Non-trainable params: </span><span style=\"color: #00af00; text-decoration-color: #00af00\">0</span> (0.00 B)\n",
              "</pre>\n"
            ]
          },
          "metadata": {}
        },
        {
          "output_type": "display_data",
          "data": {
            "text/plain": [
              "\u001b[1m Optimizer params: \u001b[0m\u001b[38;5;34m2,194\u001b[0m (8.57 KB)\n"
            ],
            "text/html": [
              "<pre style=\"white-space:pre;overflow-x:auto;line-height:normal;font-family:Menlo,'DejaVu Sans Mono',consolas,'Courier New',monospace\"><span style=\"font-weight: bold\"> Optimizer params: </span><span style=\"color: #00af00; text-decoration-color: #00af00\">2,194</span> (8.57 KB)\n",
              "</pre>\n"
            ]
          },
          "metadata": {}
        }
      ]
    },
    {
      "cell_type": "code",
      "source": [
        "input_pair = np.array([[word_to_index[\"the\"], word_to_index[\"cat\"]]])  # (1, 2)\n",
        "predictions = model.predict(input_pair)\n",
        "predictions"
      ],
      "metadata": {
        "colab": {
          "base_uri": "https://localhost:8080/"
        },
        "id": "fehLMnwPJqk-",
        "outputId": "27882be0-c79a-44b8-a8e4-90312d80fb0e"
      },
      "execution_count": 57,
      "outputs": [
        {
          "output_type": "stream",
          "name": "stdout",
          "text": [
            "\u001b[1m1/1\u001b[0m \u001b[32m━━━━━━━━━━━━━━━━━━━━\u001b[0m\u001b[37m\u001b[0m \u001b[1m0s\u001b[0m 46ms/step\n"
          ]
        },
        {
          "output_type": "execute_result",
          "data": {
            "text/plain": [
              "array([[0.01328968, 0.01363665, 0.01360989, 0.01427745, 0.01379839,\n",
              "        0.01339028, 0.01404645, 0.01404294, 0.01384243, 0.01360202,\n",
              "        0.01389   , 0.0137523 , 0.01399522, 0.01439063, 0.01315064,\n",
              "        0.01349746, 0.01379659, 0.0142926 , 0.01394381, 0.013308  ,\n",
              "        0.01401608, 0.01391429, 0.01424812, 0.01498955, 0.01367047,\n",
              "        0.01394971, 0.01439126, 0.01327554, 0.01425731, 0.01400397,\n",
              "        0.01388592, 0.0132544 , 0.01416042, 0.01385876, 0.01432145,\n",
              "        0.0140959 , 0.01409323, 0.01438518, 0.01436249, 0.01396414,\n",
              "        0.01411854, 0.01343215, 0.01310041, 0.01399444, 0.01457609,\n",
              "        0.01449963, 0.01399986, 0.01384221, 0.01419556, 0.01363858,\n",
              "        0.01327474, 0.01417534, 0.0143313 , 0.01365592, 0.01375263,\n",
              "        0.01403483, 0.01340851, 0.01317674, 0.01352353, 0.01366983,\n",
              "        0.01336111, 0.01373747, 0.0134014 , 0.01447995, 0.01325776,\n",
              "        0.0139938 , 0.01464404, 0.01440039, 0.01409761, 0.01389907,\n",
              "        0.01406753, 0.01360739]], dtype=float32)"
            ]
          },
          "metadata": {},
          "execution_count": 57
        }
      ]
    },
    {
      "cell_type": "code",
      "source": [
        "predicted_index = np.argmax(predictions[0])\n",
        "print(f\"RNN: Predicted next word for 'the cat': {index_to_word[predicted_index]}\")"
      ],
      "metadata": {
        "colab": {
          "base_uri": "https://localhost:8080/"
        },
        "id": "JeNeCF3wOyTz",
        "outputId": "cc4a5855-9a82-4102-b4ee-e8f1a44bad01"
      },
      "execution_count": 58,
      "outputs": [
        {
          "output_type": "stream",
          "name": "stdout",
          "text": [
            "RNN: Predicted next word for 'the cat': a\n"
          ]
        }
      ]
    },
    {
      "cell_type": "code",
      "source": [],
      "metadata": {
        "id": "nJRnD1UkO5rW"
      },
      "execution_count": null,
      "outputs": []
    }
  ]
}