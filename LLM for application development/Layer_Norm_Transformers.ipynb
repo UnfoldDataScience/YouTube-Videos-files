{
  "nbformat": 4,
  "nbformat_minor": 0,
  "metadata": {
    "colab": {
      "provenance": []
    },
    "kernelspec": {
      "name": "python3",
      "display_name": "Python 3"
    },
    "language_info": {
      "name": "python"
    }
  },
  "cells": [
    {
      "cell_type": "code",
      "execution_count": 1,
      "metadata": {
        "id": "R8dygMEFkaXk"
      },
      "outputs": [],
      "source": [
        "import numpy as np\n",
        "import matplotlib.pyplot as plt\n",
        "\n",
        "# Input token embedding\n",
        "x = np.array([0.4, 0.6, 0.2, 0.8])"
      ]
    },
    {
      "cell_type": "code",
      "source": [
        "sublayer_output = np.array([0.1, -0.3, 0.5, 0.2]) #think like this is output from attentiuon layer"
      ],
      "metadata": {
        "id": "SynAszusuLJj"
      },
      "execution_count": 2,
      "outputs": []
    },
    {
      "cell_type": "code",
      "source": [
        "# Residual Connection\n",
        "residual = x + sublayer_output"
      ],
      "metadata": {
        "id": "udxX0gfDuRLM"
      },
      "execution_count": 3,
      "outputs": []
    },
    {
      "cell_type": "code",
      "source": [
        "# Layer Normalization\n",
        "def layer_norm(x, eps=1e-5):\n",
        "    mean = np.mean(x)\n",
        "    std = np.std(x)\n",
        "    return (x - mean) / (std + eps)"
      ],
      "metadata": {
        "id": "VIByEz2quXjh"
      },
      "execution_count": 4,
      "outputs": []
    },
    {
      "cell_type": "code",
      "source": [
        "normalized_output = layer_norm(residual)"
      ],
      "metadata": {
        "id": "QgMqGm4CuhUy"
      },
      "execution_count": 5,
      "outputs": []
    },
    {
      "cell_type": "code",
      "source": [
        "print(\"Input:\", x)\n",
        "print(\"Sublayer Output:\", sublayer_output)\n",
        "print(\"After Residual:\", residual)\n",
        "print(\"After LayerNorm:\", normalized_output)"
      ],
      "metadata": {
        "colab": {
          "base_uri": "https://localhost:8080/"
        },
        "id": "a08y8Ublula5",
        "outputId": "4c3d59ff-d09e-455a-fc48-90ca883eca3f"
      },
      "execution_count": 6,
      "outputs": [
        {
          "output_type": "stream",
          "name": "stdout",
          "text": [
            "Input: [0.4 0.6 0.2 0.8]\n",
            "Sublayer Output: [ 0.1 -0.3  0.5  0.2]\n",
            "After Residual: [0.5 0.3 0.7 1. ]\n",
            "After LayerNorm: [-0.48334955 -1.25670884  0.29000973  1.45004866]\n"
          ]
        }
      ]
    },
    {
      "cell_type": "code",
      "source": [],
      "metadata": {
        "id": "2-AEAjsvuosV"
      },
      "execution_count": null,
      "outputs": []
    }
  ]
}