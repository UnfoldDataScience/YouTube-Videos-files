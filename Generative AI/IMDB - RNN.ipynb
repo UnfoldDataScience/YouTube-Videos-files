{
 "cells": [
  {
   "cell_type": "code",
   "execution_count": 2,
   "id": "abe79fb8",
   "metadata": {},
   "outputs": [],
   "source": [
    "#!pip install -q tensorflow_datasets\n",
    "import numpy as np\n",
    "\n",
    "import tensorflow_datasets as tfds\n",
    "import tensorflow as tf\n",
    "\n",
    "tfds.disable_progress_bar()"
   ]
  },
  {
   "cell_type": "code",
   "execution_count": 3,
   "id": "afb8993e",
   "metadata": {},
   "outputs": [],
   "source": [
    "import matplotlib.pyplot as plt\n",
    "\n",
    "def plot_graphs(history, metric):\n",
    "    plt.plot(history.history[metric])\n",
    "    plt.plot(history.history['val_'+metric], '')\n",
    "    plt.xlabel(\"Epochs\")\n",
    "    plt.ylabel(metric)\n",
    "    plt.legend([metric, 'val_'+metric])"
   ]
  },
  {
   "cell_type": "code",
   "execution_count": 4,
   "id": "b1061099",
   "metadata": {},
   "outputs": [
    {
     "data": {
      "text/plain": [
       "(TensorSpec(shape=(), dtype=tf.string, name=None),\n",
       " TensorSpec(shape=(), dtype=tf.int64, name=None))"
      ]
     },
     "execution_count": 4,
     "metadata": {},
     "output_type": "execute_result"
    }
   ],
   "source": [
    "dataset, info = tfds.load('imdb_reviews', with_info=True,\n",
    "                          as_supervised=True)\n",
    "train_dataset, test_dataset = dataset['train'], dataset['test']\n",
    "\n",
    "train_dataset.element_spec"
   ]
  },
  {
   "cell_type": "code",
   "execution_count": 5,
   "id": "d2812ff3",
   "metadata": {},
   "outputs": [
    {
     "name": "stdout",
     "output_type": "stream",
     "text": [
      "text:  b\"This was an absolutely terrible movie. Don't be lured in by Christopher Walken or Michael Ironside. Both are great actors, but this must simply be their worst role in history. Even their great acting could not redeem this movie's ridiculous storyline. This movie is an early nineties US propaganda piece. The most pathetic scenes were those when the Columbian rebels were making their cases for revolutions. Maria Conchita Alonso appeared phony, and her pseudo-love affair with Walken was nothing but a pathetic emotional plug in a movie that was devoid of any real meaning. I am disappointed that there are movies like this, ruining actor's like Christopher Walken's good name. I could barely sit through it.\"\n",
      "label:  0\n"
     ]
    }
   ],
   "source": [
    "for example, label in train_dataset.take(1):\n",
    "    print('text: ', example.numpy())\n",
    "    print('label: ', label.numpy())"
   ]
  },
  {
   "cell_type": "code",
   "execution_count": 6,
   "id": "e8aff1e4",
   "metadata": {},
   "outputs": [],
   "source": [
    "BUFFER_SIZE = 10000\n",
    "BATCH_SIZE = 64"
   ]
  },
  {
   "cell_type": "code",
   "execution_count": 7,
   "id": "12f85e56",
   "metadata": {},
   "outputs": [],
   "source": [
    "train_dataset = train_dataset.shuffle(BUFFER_SIZE).batch(BATCH_SIZE).prefetch(tf.data.AUTOTUNE)\n",
    "test_dataset = test_dataset.batch(BATCH_SIZE).prefetch(tf.data.AUTOTUNE)"
   ]
  },
  {
   "cell_type": "code",
   "execution_count": 10,
   "id": "7d825a37",
   "metadata": {},
   "outputs": [
    {
     "name": "stdout",
     "output_type": "stream",
     "text": [
      "texts:  [b\"This is a dramatic film in the whole sense of the word. It tells a tail that here in Greece we live as a routine in everyday life without realizing how sad it is. Sure it has some extremes.. but every now and then real life sorrow surpasses art.It is deeply critical of the goals we pursue and the whole social structure build around them. The film has a deeper understanding of Greek ways of life, stereotypes, and social structure. Unlike most Greek films that have a certain fast-food-mainstream audience, this one does not target anyone in particular but while you watch it you feel that someone put the best possible words and pictures to describe your feelings. I am not a big fan of traditional music either but I wouldn't like to hear anything else when it was played during the film.<br /><br />If someone told me to say something against this film I'd define the following, sometimes the transition between scenes seemed sudden or somewhat cut. I guess the editing had to cut it up to fit the 2hours and a bit for the theatres..<br /><br />Anyway I could write more and more to express my thought over this but I guess u have to see it and discuss it with a friend. A must see\"\n",
      " b'I have just read the lead comment for this film that is on the front page with the voting results and cast run down.<br /><br />Why is it that some people can not take a film for what it is supposed to be.<br /><br />This film is supposed to be a light hearted, tonge in cheek, family comedy, things to make the kids laugh and things for the adults, and that is exactly what this film does.<br /><br />I laughed my nuts off at this film, I thought Carey put in a great performance and the whole film (if watched at Christmas) really give you a bit of festive cheer<br /><br />So to all of you film reviewers stop trying to sound like film students and knock every film because it is not \"Taxi Driver\" or \"The Godfather\" and take films for what they are supposed to be, entertainment!!'\n",
      " b'A Give this Movie a 10/10 because it deserves a 10/10. Two of the best actors of their time-Walter Matthau & George Burns collaborate with Neil Simon and all of the other actors that are in this film + director Herbert Ross, and all of that makes this stage adaption come true. The Sunshine Boys is one of the best films of the 70\\'s. I love the type of humor in this film, it just makes me laugh so hard.<br /><br />I got this movie on VHS 3 days ago (yes, VHS because it was cheaper-only $3). I watched it as soon as I got home, but I had to watch it again because I kept missing a few parts the first time. The second time I watched it, it felt a lot better, and I laughed a lot harder. I\\'m definitely going to re-get this on DVD because I HAVE to see the special features.<br /><br />It\\'s very funny how that happens. Two people work together as entertainers/actors/performers. They get along well on stage, but really argue off stage, they can\\'t survive another minute with each other, then some 15 years later, you want to reunite them for a TV special. You can find that in this film. Matthau & Burns were terrific in this film. It\\'s a damn shame they died. George Burns deserved that Oscar. He gave a strong comic performance. He was also 78 when this movie was filmed. So far, he\\'s the oldest actor to receive an academy award at an old age. Jessica Tandy breaks the record as the oldest actress. Richard Benjamin was also fantastic in this. He won a Golden Globe for best supporting actor. He deserved that Golden Globe. Although many people might disagree with what I am about to say, everybody in this film gave a strong performance. This Comedy is an instant classic. I highly recommend it. One more thing: Whoever hates this film is a \"Putz\"']\n",
      "#################\n",
      "labels:  [1 1 1]\n"
     ]
    }
   ],
   "source": [
    "for example, label in train_dataset.take(1):\n",
    "    print('texts: ', example.numpy()[:3])\n",
    "    print(\"#################\")\n",
    "    print('labels: ', label.numpy()[:3])"
   ]
  },
  {
   "cell_type": "code",
   "execution_count": 14,
   "id": "e9f1251a",
   "metadata": {},
   "outputs": [],
   "source": [
    "VOCAB_SIZE=1000\n",
    "encoder = tf.keras.layers.experimental.preprocessing.TextVectorization(\n",
    "    max_tokens=VOCAB_SIZE)\n",
    "encoder.adapt(train_dataset.map(lambda text, label: text))"
   ]
  },
  {
   "cell_type": "code",
   "execution_count": 15,
   "id": "7974ce74",
   "metadata": {},
   "outputs": [
    {
     "data": {
      "text/plain": [
       "array(['', '[UNK]', 'the', 'and', 'a', 'of', 'to', 'is', 'in', 'it', 'i',\n",
       "       'this', 'that', 'br', 'was', 'as', 'for', 'with', 'movie', 'but'],\n",
       "      dtype='<U14')"
      ]
     },
     "execution_count": 15,
     "metadata": {},
     "output_type": "execute_result"
    }
   ],
   "source": [
    "vocab = np.array(encoder.get_vocabulary())\n",
    "vocab[:20]"
   ]
  },
  {
   "cell_type": "code",
   "execution_count": 16,
   "id": "4ab49c91",
   "metadata": {},
   "outputs": [
    {
     "data": {
      "text/plain": [
       "array([[ 11,   7,   4, ...,   0,   0,   0],\n",
       "       [ 10,  26,  41, ...,   0,   0,   0],\n",
       "       [  4, 192,  11, ...,   0,   0,   0]], dtype=int64)"
      ]
     },
     "execution_count": 16,
     "metadata": {},
     "output_type": "execute_result"
    }
   ],
   "source": [
    "encoded_example = encoder(example)[:3].numpy()\n",
    "encoded_example"
   ]
  },
  {
   "cell_type": "code",
   "execution_count": 17,
   "id": "e7688331",
   "metadata": {},
   "outputs": [
    {
     "name": "stdout",
     "output_type": "stream",
     "text": [
      "Original:  b\"This is a dramatic film in the whole sense of the word. It tells a tail that here in Greece we live as a routine in everyday life without realizing how sad it is. Sure it has some extremes.. but every now and then real life sorrow surpasses art.It is deeply critical of the goals we pursue and the whole social structure build around them. The film has a deeper understanding of Greek ways of life, stereotypes, and social structure. Unlike most Greek films that have a certain fast-food-mainstream audience, this one does not target anyone in particular but while you watch it you feel that someone put the best possible words and pictures to describe your feelings. I am not a big fan of traditional music either but I wouldn't like to hear anything else when it was played during the film.<br /><br />If someone told me to say something against this film I'd define the following, sometimes the transition between scenes seemed sudden or somewhat cut. I guess the editing had to cut it up to fit the 2hours and a bit for the theatres..<br /><br />Anyway I could write more and more to express my thought over this but I guess u have to see it and discuss it with a friend. A must see\"\n",
      "Round-trip:  this is a dramatic film in the whole sense of the word it tells a [UNK] that here in [UNK] we live as a [UNK] in [UNK] life without [UNK] how sad it is sure it has some [UNK] but every now and then real life [UNK] [UNK] [UNK] is [UNK] [UNK] of the [UNK] we [UNK] and the whole [UNK] [UNK] [UNK] around them the film has a [UNK] [UNK] of [UNK] ways of life [UNK] and [UNK] [UNK] unlike most [UNK] films that have a certain [UNK] audience this one does not [UNK] anyone in particular but while you watch it you feel that someone put the best possible words and [UNK] to [UNK] your [UNK] i am not a big fan of [UNK] music either but i wouldnt like to hear anything else when it was played during the filmbr br if someone told me to say something against this film id [UNK] the [UNK] sometimes the [UNK] between scenes seemed [UNK] or somewhat cut i guess the editing had to cut it up to [UNK] the [UNK] and a bit for the [UNK] br anyway i could write more and more to [UNK] my thought over this but i guess [UNK] have to see it and [UNK] it with a friend a must see                                                                                                                                                                                                                                                                                                                                                                                                                                                                                                                                                                                                                                                               \n",
      "\n",
      "Original:  b'I have just read the lead comment for this film that is on the front page with the voting results and cast run down.<br /><br />Why is it that some people can not take a film for what it is supposed to be.<br /><br />This film is supposed to be a light hearted, tonge in cheek, family comedy, things to make the kids laugh and things for the adults, and that is exactly what this film does.<br /><br />I laughed my nuts off at this film, I thought Carey put in a great performance and the whole film (if watched at Christmas) really give you a bit of festive cheer<br /><br />So to all of you film reviewers stop trying to sound like film students and knock every film because it is not \"Taxi Driver\" or \"The Godfather\" and take films for what they are supposed to be, entertainment!!'\n",
      "Round-trip:  i have just read the lead comment for this film that is on the [UNK] [UNK] with the [UNK] [UNK] and cast run [UNK] br why is it that some people can not take a film for what it is supposed to [UNK] br this film is supposed to be a light [UNK] [UNK] in [UNK] family comedy things to make the kids laugh and things for the [UNK] and that is exactly what this film [UNK] br i [UNK] my [UNK] off at this film i thought [UNK] put in a great performance and the whole film if watched at christmas really give you a bit of [UNK] [UNK] br so to all of you film [UNK] stop trying to sound like film [UNK] and [UNK] every film because it is not [UNK] [UNK] or the [UNK] and take films for what they are supposed to be entertainment                                                                                                                                                                                                                                                                                                                                                                                                                                                                                                                                                                                                                                                                                                                                    \n",
      "\n",
      "Original:  b'A Give this Movie a 10/10 because it deserves a 10/10. Two of the best actors of their time-Walter Matthau & George Burns collaborate with Neil Simon and all of the other actors that are in this film + director Herbert Ross, and all of that makes this stage adaption come true. The Sunshine Boys is one of the best films of the 70\\'s. I love the type of humor in this film, it just makes me laugh so hard.<br /><br />I got this movie on VHS 3 days ago (yes, VHS because it was cheaper-only $3). I watched it as soon as I got home, but I had to watch it again because I kept missing a few parts the first time. The second time I watched it, it felt a lot better, and I laughed a lot harder. I\\'m definitely going to re-get this on DVD because I HAVE to see the special features.<br /><br />It\\'s very funny how that happens. Two people work together as entertainers/actors/performers. They get along well on stage, but really argue off stage, they can\\'t survive another minute with each other, then some 15 years later, you want to reunite them for a TV special. You can find that in this film. Matthau & Burns were terrific in this film. It\\'s a damn shame they died. George Burns deserved that Oscar. He gave a strong comic performance. He was also 78 when this movie was filmed. So far, he\\'s the oldest actor to receive an academy award at an old age. Jessica Tandy breaks the record as the oldest actress. Richard Benjamin was also fantastic in this. He won a Golden Globe for best supporting actor. He deserved that Golden Globe. Although many people might disagree with what I am about to say, everybody in this film gave a strong performance. This Comedy is an instant classic. I highly recommend it. One more thing: Whoever hates this film is a \"Putz\"'\n",
      "Round-trip:  a give this movie a [UNK] because it deserves a [UNK] two of the best actors of their [UNK] [UNK] george [UNK] [UNK] with [UNK] [UNK] and all of the other actors that are in this film director [UNK] [UNK] and all of that makes this stage [UNK] come true the [UNK] boys is one of the best films of the 70s i love the type of humor in this film it just makes me laugh so [UNK] br i got this movie on [UNK] 3 days ago yes [UNK] because it was [UNK] 3 i watched it as soon as i got home but i had to watch it again because i kept missing a few parts the first time the second time i watched it it felt a lot better and i [UNK] a lot [UNK] im definitely going to [UNK] this on dvd because i have to see the special [UNK] br its very funny how that happens two people work together as [UNK] they get along well on stage but really [UNK] off stage they cant [UNK] another minute with each other then some [UNK] years later you want to [UNK] them for a tv special you can find that in this film [UNK] [UNK] were [UNK] in this film its a [UNK] shame they [UNK] george [UNK] [UNK] that oscar he gave a strong comic performance he was also [UNK] when this movie was filmed so far hes the [UNK] actor to [UNK] an [UNK] [UNK] at an old age [UNK] [UNK] [UNK] the [UNK] as the [UNK] actress richard [UNK] was also fantastic in this he [UNK] a [UNK] [UNK] for best supporting actor he [UNK] that [UNK] [UNK] although many people might [UNK] with what i am about to say [UNK] in this film gave a strong performance this comedy is an [UNK] classic i highly recommend it one more thing [UNK] [UNK] this film is a [UNK]                                                                                                                                                                                                                                                                                                                                                                                                                                                                                                                                                    \n",
      "\n"
     ]
    }
   ],
   "source": [
    "for n in range(3):\n",
    "    print(\"Original: \", example[n].numpy())\n",
    "    print(\"Round-trip: \", \" \".join(vocab[encoded_example[n]]))\n",
    "    print()"
   ]
  },
  {
   "cell_type": "code",
   "execution_count": 22,
   "id": "d24fbe9e",
   "metadata": {},
   "outputs": [],
   "source": [
    "model = tf.keras.Sequential([\n",
    "    encoder,\n",
    "    tf.keras.layers.Embedding(\n",
    "        input_dim=len(encoder.get_vocabulary()),\n",
    "        output_dim=64,\n",
    "        # Use masking to handle the variable sequence lengths\n",
    "        mask_zero=True),\n",
    "    tf.keras.layers.Bidirectional(tf.keras.layers.SimpleRNN(64)),\n",
    "    tf.keras.layers.Dense(64, activation='relu'),\n",
    "    tf.keras.layers.Dense(1)\n",
    "])"
   ]
  },
  {
   "cell_type": "code",
   "execution_count": 23,
   "id": "5767d60a",
   "metadata": {},
   "outputs": [],
   "source": [
    "model.compile(loss=tf.keras.losses.BinaryCrossentropy(from_logits=True),\n",
    "              optimizer=tf.keras.optimizers.Adam(1e-4),\n",
    "              metrics=['accuracy'])"
   ]
  },
  {
   "cell_type": "code",
   "execution_count": null,
   "id": "abe4ec25",
   "metadata": {},
   "outputs": [
    {
     "name": "stdout",
     "output_type": "stream",
     "text": [
      "Epoch 1/2\n",
      " 65/391 [===>..........................] - ETA: 9:02 - loss: 0.6950 - accuracy: 0.4940"
     ]
    }
   ],
   "source": [
    "history = model.fit(train_dataset, epochs=2,\n",
    "                    validation_data=test_dataset, \n",
    "                    validation_steps=3)"
   ]
  },
  {
   "cell_type": "code",
   "execution_count": 25,
   "id": "2ded161c",
   "metadata": {},
   "outputs": [
    {
     "name": "stdout",
     "output_type": "stream",
     "text": [
      "782/782 [==============================] - 18s 23ms/step\n"
     ]
    },
    {
     "data": {
      "text/plain": [
       "array([[0.2448675 ],\n",
       "       [0.91274124],\n",
       "       [0.38132814],\n",
       "       ...,\n",
       "       [0.6267383 ],\n",
       "       [0.16669379],\n",
       "       [0.61002487]], dtype=float32)"
      ]
     },
     "execution_count": 25,
     "metadata": {},
     "output_type": "execute_result"
    }
   ],
   "source": [
    "test_loss, test_acc = model.evaluate(test_dataset)\n",
    "\n",
    "print('Test Loss: {}'.format(test_loss))\n",
    "print('Test Accuracy: {}'.format(test_acc))"
   ]
  },
  {
   "cell_type": "code",
   "execution_count": 26,
   "id": "d605d77c",
   "metadata": {},
   "outputs": [
    {
     "data": {
      "text/plain": [
       "array([[   0,    0,    0, ...,   14,    6,  717],\n",
       "       [   0,    0,    0, ...,  125,    4, 3077],\n",
       "       [  33,    6,   58, ...,    9,   57,  975],\n",
       "       ...,\n",
       "       [   0,    0,    0, ...,   21,  846,    2],\n",
       "       [   0,    0,    0, ..., 2302,    7,  470],\n",
       "       [   0,    0,    0, ...,   34, 2005, 2643]])"
      ]
     },
     "execution_count": 26,
     "metadata": {},
     "output_type": "execute_result"
    }
   ],
   "source": [
    "sample_text = ('The movie was cool. The animation and the graphics '\n",
    "               'were out of this world. I would recommend this movie.')\n",
    "predictions = model.predict(np.array([sample_text]))"
   ]
  }
 ],
 "metadata": {
  "kernelspec": {
   "display_name": "Python 3 (ipykernel)",
   "language": "python",
   "name": "python3"
  },
  "language_info": {
   "codemirror_mode": {
    "name": "ipython",
    "version": 3
   },
   "file_extension": ".py",
   "mimetype": "text/x-python",
   "name": "python",
   "nbconvert_exporter": "python",
   "pygments_lexer": "ipython3",
   "version": "3.9.15"
  }
 },
 "nbformat": 4,
 "nbformat_minor": 5
}
