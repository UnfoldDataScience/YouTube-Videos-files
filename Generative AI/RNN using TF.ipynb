{
 "cells": [
  {
   "cell_type": "code",
   "execution_count": 3,
   "id": "39efc1a2",
   "metadata": {},
   "outputs": [],
   "source": [
    "import numpy as np\n",
    "\n",
    "import tensorflow_datasets as tfds\n",
    "import tensorflow as tf\n",
    "\n",
    "tfds.disable_progress_bar()"
   ]
  },
  {
   "cell_type": "code",
   "execution_count": 4,
   "id": "d9dfdfa4",
   "metadata": {},
   "outputs": [],
   "source": [
    "import matplotlib.pyplot as plt\n",
    "\n",
    "\n",
    "def plot_graphs(history, metric):\n",
    "    plt.plot(history.history[metric])\n",
    "    plt.plot(history.history['val_'+metric], '')\n",
    "    plt.xlabel(\"Epochs\")\n",
    "    plt.ylabel(metric)\n",
    "    plt.legend([metric, 'val_'+metric])"
   ]
  },
  {
   "cell_type": "code",
   "execution_count": 5,
   "id": "ac6cd5de",
   "metadata": {},
   "outputs": [
    {
     "name": "stdout",
     "output_type": "stream",
     "text": [
      "Downloading and preparing dataset Unknown size (download: Unknown size, generated: Unknown size, total: Unknown size) to C:\\Users\\amanr\\tensorflow_datasets\\imdb_reviews\\plain_text\\1.0.0...\n",
      "Dataset imdb_reviews downloaded and prepared to C:\\Users\\amanr\\tensorflow_datasets\\imdb_reviews\\plain_text\\1.0.0. Subsequent calls will reuse this data.\n"
     ]
    },
    {
     "data": {
      "text/plain": [
       "(TensorSpec(shape=(), dtype=tf.string, name=None),\n",
       " TensorSpec(shape=(), dtype=tf.int64, name=None))"
      ]
     },
     "execution_count": 5,
     "metadata": {},
     "output_type": "execute_result"
    }
   ],
   "source": [
    "dataset, info = tfds.load('imdb_reviews', with_info=True,\n",
    "                          as_supervised=True)\n",
    "train_dataset, test_dataset = dataset['train'], dataset['test']\n",
    "\n",
    "train_dataset.element_spec"
   ]
  },
  {
   "cell_type": "code",
   "execution_count": 7,
   "id": "d41e736f",
   "metadata": {},
   "outputs": [
    {
     "name": "stdout",
     "output_type": "stream",
     "text": [
      "text:  b\"This was an absolutely terrible movie. Don't be lured in by Christopher Walken or Michael Ironside. Both are great actors, but this must simply be their worst role in history. Even their great acting could not redeem this movie's ridiculous storyline. This movie is an early nineties US propaganda piece. The most pathetic scenes were those when the Columbian rebels were making their cases for revolutions. Maria Conchita Alonso appeared phony, and her pseudo-love affair with Walken was nothing but a pathetic emotional plug in a movie that was devoid of any real meaning. I am disappointed that there are movies like this, ruining actor's like Christopher Walken's good name. I could barely sit through it.\"\n",
      "label:  0\n"
     ]
    }
   ],
   "source": [
    "for example, label in train_dataset.take(1):\n",
    "    print('text: ', example.numpy())\n",
    "    print('label: ', label.numpy())"
   ]
  },
  {
   "cell_type": "code",
   "execution_count": 8,
   "id": "9619bb3c",
   "metadata": {},
   "outputs": [],
   "source": [
    "BUFFER_SIZE = 10000\n",
    "BATCH_SIZE = 64"
   ]
  },
  {
   "cell_type": "code",
   "execution_count": 9,
   "id": "c3afcbfb",
   "metadata": {},
   "outputs": [],
   "source": [
    "train_dataset = train_dataset.shuffle(BUFFER_SIZE).batch(BATCH_SIZE).prefetch(tf.data.AUTOTUNE)\n",
    "test_dataset = test_dataset.batch(BATCH_SIZE).prefetch(tf.data.AUTOTUNE)"
   ]
  },
  {
   "cell_type": "code",
   "execution_count": 10,
   "id": "857b14f7",
   "metadata": {},
   "outputs": [
    {
     "name": "stdout",
     "output_type": "stream",
     "text": [
      "texts:  [b'R\\xc3\\xa5zone is an awful movie! It is so simple. It seems they tried to make a movie to show the reel life. Just like Zappa did many years ago. But unfortunately Denmark lacks good young actors. Leon are by many still the little girl in \"krummernes Jul\", and Laura is simply not good enough to play such an important role. several times in the movie she plays with out soul and this is destroying the movie!<br /><br />Even though i consider it a movie you ought to see. I do not agree that the youth are behaving like this, but i think it can show how it can end, if you are letting your child down. Also it is important to support danish movies and new companies like \"Film folket\"!<br /><br />all in all I think people should see R\\xc3\\xa5zone. Not because it is a great film, but because it is a movies which is dealing with important themes. I also think it is important to point out that there are some violent scenes in it, and actually it is in these scenes, Laura is acting best. - like the ending where she is holding the gun!'\n",
      " b'This Film was really eye-opening. I have seen this film several times. First, when I was four and I actually remembered it and then when I was 12. The whole message that the director is conveying is for everyone to wake up and not make the mistake of leaving God out of our everyday lives or just Plain going the extra mile to insult him.<br /><br />A great Movie for Non-believers and Believers alike!'\n",
      " b'This movie sucked ! They took something from my childhood ,and raped it in an outhouse! This movie was so bad I wanted to go home and hold my \"Dukes\" dvds and cry in a corner. The cast was terrible ! It wasn\\'t \"The Dukes\", it was Stiffler and Jackass driving a car. When was Boss Hogg evil? When was Rosco a tough guy? They never were ! Boss Hogg was greedy and Rosco was an idiot. When did Jesse smoke pot? He never did ! Now don\\'t get me wrong,I\\'m very liberal and there\\'s nothing wrong with a little chiba, but it had no place in this movie! The only thing good about this movie was the trailers before the movie and the end credits. It was a waste of money time and air. Avoid at all costs!!!!!!!!']\n",
      "\n",
      "labels:  [0 1 0]\n"
     ]
    }
   ],
   "source": [
    "for example, label in train_dataset.take(1):\n",
    "    print('texts: ', example.numpy()[:3])\n",
    "    print()\n",
    "    print('labels: ', label.numpy()[:3])"
   ]
  },
  {
   "cell_type": "code",
   "execution_count": 11,
   "id": "f7cb4068",
   "metadata": {},
   "outputs": [],
   "source": [
    "VOCAB_SIZE = 1000\n",
    "encoder = tf.keras.layers.TextVectorization(\n",
    "    max_tokens=VOCAB_SIZE)\n",
    "encoder.adapt(train_dataset.map(lambda text, label: text))"
   ]
  },
  {
   "cell_type": "code",
   "execution_count": 12,
   "id": "364d24f1",
   "metadata": {},
   "outputs": [
    {
     "data": {
      "text/plain": [
       "array(['', '[UNK]', 'the', 'and', 'a', 'of', 'to', 'is', 'in', 'it', 'i',\n",
       "       'this', 'that', 'br', 'was', 'as', 'for', 'with', 'movie', 'but'],\n",
       "      dtype='<U14')"
      ]
     },
     "execution_count": 12,
     "metadata": {},
     "output_type": "execute_result"
    }
   ],
   "source": [
    "vocab = np.array(encoder.get_vocabulary())\n",
    "vocab[:20]"
   ]
  },
  {
   "cell_type": "code",
   "execution_count": 13,
   "id": "10761671",
   "metadata": {},
   "outputs": [
    {
     "data": {
      "text/plain": [
       "array([[ 1,  7, 34, ...,  0,  0,  0],\n",
       "       [11, 20, 14, ...,  0,  0,  0],\n",
       "       [11, 18,  1, ...,  0,  0,  0]], dtype=int64)"
      ]
     },
     "execution_count": 13,
     "metadata": {},
     "output_type": "execute_result"
    }
   ],
   "source": [
    "encoded_example = encoder(example)[:3].numpy()\n",
    "encoded_example"
   ]
  },
  {
   "cell_type": "code",
   "execution_count": 14,
   "id": "299e9a4f",
   "metadata": {},
   "outputs": [
    {
     "name": "stdout",
     "output_type": "stream",
     "text": [
      "Original:  b'R\\xc3\\xa5zone is an awful movie! It is so simple. It seems they tried to make a movie to show the reel life. Just like Zappa did many years ago. But unfortunately Denmark lacks good young actors. Leon are by many still the little girl in \"krummernes Jul\", and Laura is simply not good enough to play such an important role. several times in the movie she plays with out soul and this is destroying the movie!<br /><br />Even though i consider it a movie you ought to see. I do not agree that the youth are behaving like this, but i think it can show how it can end, if you are letting your child down. Also it is important to support danish movies and new companies like \"Film folket\"!<br /><br />all in all I think people should see R\\xc3\\xa5zone. Not because it is a great film, but because it is a movies which is dealing with important themes. I also think it is important to point out that there are some violent scenes in it, and actually it is in these scenes, Laura is acting best. - like the ending where she is holding the gun!'\n",
      "Round-trip:  [UNK] is an awful movie it is so simple it seems they tried to make a movie to show the [UNK] life just like [UNK] did many years ago but unfortunately [UNK] [UNK] good young actors [UNK] are by many still the little girl in [UNK] [UNK] and [UNK] is simply not good enough to play such an important role several times in the movie she plays with out [UNK] and this is [UNK] the moviebr br even though i [UNK] it a movie you [UNK] to see i do not [UNK] that the [UNK] are [UNK] like this but i think it can show how it can end if you are [UNK] your child down also it is important to [UNK] [UNK] movies and new [UNK] like film [UNK] br all in all i think people should see [UNK] not because it is a great film but because it is a movies which is [UNK] with important [UNK] i also think it is important to point out that there are some [UNK] scenes in it and actually it is in these scenes [UNK] is acting best like the ending where she is [UNK] the [UNK]                                                                                                                                                                                                                                                                                                                                                                                                                                                                                                                                                                                                      \n",
      "\n",
      "Original:  b'This Film was really eye-opening. I have seen this film several times. First, when I was four and I actually remembered it and then when I was 12. The whole message that the director is conveying is for everyone to wake up and not make the mistake of leaving God out of our everyday lives or just Plain going the extra mile to insult him.<br /><br />A great Movie for Non-believers and Believers alike!'\n",
      "Round-trip:  this film was really [UNK] i have seen this film several times first when i was four and i actually [UNK] it and then when i was [UNK] the whole message that the director is [UNK] is for everyone to [UNK] up and not make the [UNK] of [UNK] god out of our [UNK] lives or just [UNK] going the [UNK] [UNK] to [UNK] [UNK] br a great movie for [UNK] and [UNK] [UNK]                                                                                                                                                                                                                                                                                                                                                                                                                                                                                                                                                                                                                                                                                                                                \n",
      "\n",
      "Original:  b'This movie sucked ! They took something from my childhood ,and raped it in an outhouse! This movie was so bad I wanted to go home and hold my \"Dukes\" dvds and cry in a corner. The cast was terrible ! It wasn\\'t \"The Dukes\", it was Stiffler and Jackass driving a car. When was Boss Hogg evil? When was Rosco a tough guy? They never were ! Boss Hogg was greedy and Rosco was an idiot. When did Jesse smoke pot? He never did ! Now don\\'t get me wrong,I\\'m very liberal and there\\'s nothing wrong with a little chiba, but it had no place in this movie! The only thing good about this movie was the trailers before the movie and the end credits. It was a waste of money time and air. Avoid at all costs!!!!!!!!'\n",
      "Round-trip:  this movie [UNK] they took something from my [UNK] and [UNK] it in an [UNK] this movie was so bad i wanted to go home and [UNK] my [UNK] [UNK] and [UNK] in a [UNK] the cast was terrible it wasnt the [UNK] it was [UNK] and [UNK] [UNK] a car when was [UNK] [UNK] evil when was [UNK] a [UNK] guy they never were [UNK] [UNK] was [UNK] and [UNK] was an [UNK] when did [UNK] [UNK] [UNK] he never did now dont get me [UNK] very [UNK] and theres nothing wrong with a little [UNK] but it had no place in this movie the only thing good about this movie was the [UNK] before the movie and the end credits it was a waste of money time and air avoid at all [UNK]                                                                                                                                                                                                                                                                                                                                                                                                                                                                                                                                                                                                                                                                   \n",
      "\n"
     ]
    }
   ],
   "source": [
    "for n in range(3):\n",
    "    print(\"Original: \", example[n].numpy())\n",
    "    print(\"Round-trip: \", \" \".join(vocab[encoded_example[n]]))\n",
    "    print()"
   ]
  },
  {
   "cell_type": "code",
   "execution_count": 15,
   "id": "f389dbe6",
   "metadata": {},
   "outputs": [],
   "source": [
    "model = tf.keras.Sequential([\n",
    "    encoder,\n",
    "    tf.keras.layers.Embedding(\n",
    "        input_dim=len(encoder.get_vocabulary()),\n",
    "        output_dim=64,\n",
    "        # Use masking to handle the variable sequence lengths\n",
    "        mask_zero=True),\n",
    "    tf.keras.layers.Bidirectional(tf.keras.layers.LSTM(64)),\n",
    "    tf.keras.layers.Dense(64, activation='relu'),\n",
    "    tf.keras.layers.Dense(1)\n",
    "])"
   ]
  },
  {
   "cell_type": "code",
   "execution_count": 16,
   "id": "ffedcea0",
   "metadata": {},
   "outputs": [
    {
     "name": "stdout",
     "output_type": "stream",
     "text": [
      "[False, True, True, True, True]\n"
     ]
    }
   ],
   "source": [
    "print([layer.supports_masking for layer in model.layers])"
   ]
  },
  {
   "cell_type": "code",
   "execution_count": 17,
   "id": "61f81dee",
   "metadata": {},
   "outputs": [
    {
     "name": "stdout",
     "output_type": "stream",
     "text": [
      "1/1 [==============================] - 5s 5s/step\n",
      "[-0.01263688]\n"
     ]
    }
   ],
   "source": [
    "# predict on a sample text without padding.\n",
    "\n",
    "sample_text = ('The movie was cool. The animation and the graphics '\n",
    "               'were out of this world. I would recommend this movie.')\n",
    "predictions = model.predict(np.array([sample_text]))\n",
    "print(predictions[0])"
   ]
  },
  {
   "cell_type": "code",
   "execution_count": 18,
   "id": "3acb9420",
   "metadata": {},
   "outputs": [],
   "source": [
    "model.compile(loss=tf.keras.losses.BinaryCrossentropy(from_logits=True),\n",
    "              optimizer=tf.keras.optimizers.Adam(1e-4),\n",
    "              metrics=['accuracy'])"
   ]
  },
  {
   "cell_type": "code",
   "execution_count": null,
   "id": "9855ad63",
   "metadata": {},
   "outputs": [
    {
     "name": "stdout",
     "output_type": "stream",
     "text": [
      "Epoch 1/10\n",
      "346/391 [=========================>....] - ETA: 3:19 - loss: 0.6585 - accuracy: 0.5402"
     ]
    }
   ],
   "source": [
    "history = model.fit(train_dataset, epochs=10,\n",
    "                    validation_data=test_dataset,\n",
    "                    validation_steps=30)"
   ]
  },
  {
   "cell_type": "code",
   "execution_count": null,
   "id": "6032ffb2",
   "metadata": {},
   "outputs": [],
   "source": [
    "test_loss, test_acc = model.evaluate(test_dataset)\n",
    "\n",
    "print('Test Loss:', test_loss)\n",
    "print('Test Accuracy:', test_acc)"
   ]
  },
  {
   "cell_type": "code",
   "execution_count": null,
   "id": "1e2a5ea7",
   "metadata": {},
   "outputs": [],
   "source": [
    "plt.figure(figsize=(16, 8))\n",
    "plt.subplot(1, 2, 1)\n",
    "plot_graphs(history, 'accuracy')\n",
    "plt.ylim(None, 1)\n",
    "plt.subplot(1, 2, 2)\n",
    "plot_graphs(history, 'loss')\n",
    "plt.ylim(0, None)"
   ]
  },
  {
   "cell_type": "code",
   "execution_count": null,
   "id": "efa4447d",
   "metadata": {},
   "outputs": [],
   "source": [
    "sample_text = ('The movie was cool. The animation and the graphics '\n",
    "               'were out of this world. I would recommend this movie.')\n",
    "predictions = model.predict(np.array([sample_text]))"
   ]
  }
 ],
 "metadata": {
  "kernelspec": {
   "display_name": "Python 3 (ipykernel)",
   "language": "python",
   "name": "python3"
  },
  "language_info": {
   "codemirror_mode": {
    "name": "ipython",
    "version": 3
   },
   "file_extension": ".py",
   "mimetype": "text/x-python",
   "name": "python",
   "nbconvert_exporter": "python",
   "pygments_lexer": "ipython3",
   "version": "3.9.15"
  }
 },
 "nbformat": 4,
 "nbformat_minor": 5
}
